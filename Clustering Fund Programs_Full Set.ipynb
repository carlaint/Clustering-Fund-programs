{
 "cells": [
  {
   "cell_type": "markdown",
   "metadata": {},
   "source": [
    "# A simple clustering exercise of Fund Programs"
   ]
  },
  {
   "cell_type": "code",
   "execution_count": 10,
   "metadata": {
    "collapsed": true
   },
   "outputs": [],
   "source": [
    "import pandas as pd\n",
    "import numpy as np\n",
    "import matplotlib.pyplot as plt\n",
    "import seaborn as sns\n",
    "\n",
    "xls=pd.ExcelFile('clustering_data_full.xlsx')\n",
    "df=pd.read_excel(xls,'Cluster1')"
   ]
  },
  {
   "cell_type": "code",
   "execution_count": 11,
   "metadata": {
    "scrolled": true
   },
   "outputs": [
    {
     "data": {
      "text/html": [
       "<div>\n",
       "<style>\n",
       "    .dataframe thead tr:only-child th {\n",
       "        text-align: right;\n",
       "    }\n",
       "\n",
       "    .dataframe thead th {\n",
       "        text-align: left;\n",
       "    }\n",
       "\n",
       "    .dataframe tbody tr th {\n",
       "        vertical-align: top;\n",
       "    }\n",
       "</style>\n",
       "<table border=\"1\" class=\"dataframe\">\n",
       "  <thead>\n",
       "    <tr style=\"text-align: right;\">\n",
       "      <th></th>\n",
       "      <th>country_name</th>\n",
       "      <th>country_code</th>\n",
       "      <th>country_iso_3_code</th>\n",
       "      <th>code</th>\n",
       "      <th>region</th>\n",
       "      <th>Program yes no</th>\n",
       "      <th>year</th>\n",
       "      <th>bca_gdp_bp6</th>\n",
       "      <th>d_gdp</th>\n",
       "      <th>iar_gdp_bp6</th>\n",
       "      <th>...</th>\n",
       "      <th>ggxwdg_gdp</th>\n",
       "      <th>ngdpd</th>\n",
       "      <th>ngdp_rpch</th>\n",
       "      <th>pcpie_pch</th>\n",
       "      <th>VoiceandAccountability</th>\n",
       "      <th>PoliticalStability</th>\n",
       "      <th>GovernmentEffectiveness</th>\n",
       "      <th>RegulatoryQuality</th>\n",
       "      <th>RuleofLaw</th>\n",
       "      <th>ControlofCorruption</th>\n",
       "    </tr>\n",
       "  </thead>\n",
       "  <tbody>\n",
       "    <tr>\n",
       "      <th>0</th>\n",
       "      <td>United States</td>\n",
       "      <td>111</td>\n",
       "      <td>USA</td>\n",
       "      <td>1112011</td>\n",
       "      <td>WHD</td>\n",
       "      <td>0</td>\n",
       "      <td>2011</td>\n",
       "      <td>-2.86501</td>\n",
       "      <td>98.4494</td>\n",
       "      <td>3.46075</td>\n",
       "      <td>...</td>\n",
       "      <td>99.9371</td>\n",
       "      <td>15517.9</td>\n",
       "      <td>1.60158</td>\n",
       "      <td>3.085660</td>\n",
       "      <td>1.531901</td>\n",
       "      <td>1.408850</td>\n",
       "      <td>1.613344</td>\n",
       "      <td>1.601585</td>\n",
       "      <td>1.629249</td>\n",
       "      <td>1.562158</td>\n",
       "    </tr>\n",
       "    <tr>\n",
       "      <th>1</th>\n",
       "      <td>United States</td>\n",
       "      <td>111</td>\n",
       "      <td>USA</td>\n",
       "      <td>1112012</td>\n",
       "      <td>WHD</td>\n",
       "      <td>0</td>\n",
       "      <td>2012</td>\n",
       "      <td>-2.63814</td>\n",
       "      <td>96.6345</td>\n",
       "      <td>3.54292</td>\n",
       "      <td>...</td>\n",
       "      <td>103.4860</td>\n",
       "      <td>16155.3</td>\n",
       "      <td>2.22395</td>\n",
       "      <td>1.821510</td>\n",
       "      <td>1.539356</td>\n",
       "      <td>1.418869</td>\n",
       "      <td>1.615286</td>\n",
       "      <td>1.568815</td>\n",
       "      <td>1.634575</td>\n",
       "      <td>1.591421</td>\n",
       "    </tr>\n",
       "    <tr>\n",
       "      <th>2</th>\n",
       "      <td>United States</td>\n",
       "      <td>111</td>\n",
       "      <td>USA</td>\n",
       "      <td>1112013</td>\n",
       "      <td>WHD</td>\n",
       "      <td>0</td>\n",
       "      <td>2013</td>\n",
       "      <td>-2.09414</td>\n",
       "      <td>97.8010</td>\n",
       "      <td>2.68600</td>\n",
       "      <td>...</td>\n",
       "      <td>105.3410</td>\n",
       "      <td>16691.5</td>\n",
       "      <td>1.67734</td>\n",
       "      <td>1.336660</td>\n",
       "      <td>1.526712</td>\n",
       "      <td>1.421438</td>\n",
       "      <td>1.614160</td>\n",
       "      <td>1.561928</td>\n",
       "      <td>1.620821</td>\n",
       "      <td>1.571375</td>\n",
       "    </tr>\n",
       "    <tr>\n",
       "      <th>3</th>\n",
       "      <td>United States</td>\n",
       "      <td>111</td>\n",
       "      <td>USA</td>\n",
       "      <td>1112014</td>\n",
       "      <td>WHD</td>\n",
       "      <td>0</td>\n",
       "      <td>2014</td>\n",
       "      <td>-2.14487</td>\n",
       "      <td>98.4585</td>\n",
       "      <td>2.49174</td>\n",
       "      <td>...</td>\n",
       "      <td>105.0160</td>\n",
       "      <td>17427.6</td>\n",
       "      <td>2.56915</td>\n",
       "      <td>0.546823</td>\n",
       "      <td>1.519781</td>\n",
       "      <td>1.406690</td>\n",
       "      <td>1.602934</td>\n",
       "      <td>1.564739</td>\n",
       "      <td>1.631292</td>\n",
       "      <td>1.584339</td>\n",
       "    </tr>\n",
       "    <tr>\n",
       "      <th>4</th>\n",
       "      <td>United States</td>\n",
       "      <td>111</td>\n",
       "      <td>USA</td>\n",
       "      <td>1112015</td>\n",
       "      <td>WHD</td>\n",
       "      <td>0</td>\n",
       "      <td>2015</td>\n",
       "      <td>-2.39835</td>\n",
       "      <td>95.1253</td>\n",
       "      <td>2.11692</td>\n",
       "      <td>...</td>\n",
       "      <td>105.2350</td>\n",
       "      <td>18120.7</td>\n",
       "      <td>2.86169</td>\n",
       "      <td>0.739290</td>\n",
       "      <td>1.528172</td>\n",
       "      <td>1.429848</td>\n",
       "      <td>1.602168</td>\n",
       "      <td>1.559440</td>\n",
       "      <td>1.628480</td>\n",
       "      <td>1.588606</td>\n",
       "    </tr>\n",
       "  </tbody>\n",
       "</table>\n",
       "<p>5 rows × 28 columns</p>\n",
       "</div>"
      ],
      "text/plain": [
       "    country_name  country_code country_iso_3_code     code region  \\\n",
       "0  United States           111                USA  1112011    WHD   \n",
       "1  United States           111                USA  1112012    WHD   \n",
       "2  United States           111                USA  1112013    WHD   \n",
       "3  United States           111                USA  1112014    WHD   \n",
       "4  United States           111                USA  1112015    WHD   \n",
       "\n",
       "   Program yes no  year  bca_gdp_bp6    d_gdp  iar_gdp_bp6  \\\n",
       "0               0  2011     -2.86501  98.4494      3.46075   \n",
       "1               0  2012     -2.63814  96.6345      3.54292   \n",
       "2               0  2013     -2.09414  97.8010      2.68600   \n",
       "3               0  2014     -2.14487  98.4585      2.49174   \n",
       "4               0  2015     -2.39835  95.1253      2.11692   \n",
       "\n",
       "          ...           ggxwdg_gdp    ngdpd  ngdp_rpch  pcpie_pch  \\\n",
       "0         ...              99.9371  15517.9    1.60158   3.085660   \n",
       "1         ...             103.4860  16155.3    2.22395   1.821510   \n",
       "2         ...             105.3410  16691.5    1.67734   1.336660   \n",
       "3         ...             105.0160  17427.6    2.56915   0.546823   \n",
       "4         ...             105.2350  18120.7    2.86169   0.739290   \n",
       "\n",
       "   VoiceandAccountability  PoliticalStability  GovernmentEffectiveness  \\\n",
       "0                1.531901            1.408850                 1.613344   \n",
       "1                1.539356            1.418869                 1.615286   \n",
       "2                1.526712            1.421438                 1.614160   \n",
       "3                1.519781            1.406690                 1.602934   \n",
       "4                1.528172            1.429848                 1.602168   \n",
       "\n",
       "   RegulatoryQuality  RuleofLaw  ControlofCorruption  \n",
       "0           1.601585   1.629249             1.562158  \n",
       "1           1.568815   1.634575             1.591421  \n",
       "2           1.561928   1.620821             1.571375  \n",
       "3           1.564739   1.631292             1.584339  \n",
       "4           1.559440   1.628480             1.588606  \n",
       "\n",
       "[5 rows x 28 columns]"
      ]
     },
     "execution_count": 11,
     "metadata": {},
     "output_type": "execute_result"
    }
   ],
   "source": [
    "df.head(5)"
   ]
  },
  {
   "cell_type": "code",
   "execution_count": 12,
   "metadata": {},
   "outputs": [
    {
     "data": {
      "text/plain": [
       "(1351, 28)"
      ]
     },
     "execution_count": 12,
     "metadata": {},
     "output_type": "execute_result"
    }
   ],
   "source": [
    "#matrix size\n",
    "df.shape"
   ]
  },
  {
   "cell_type": "markdown",
   "metadata": {},
   "source": [
    "## Metadata from STATA\n",
    "\n",
    "    Contains data from C:\\Users\\CIntal\\OTmp\\master_comparator_data.dta\n",
    "    obs:         8,299                         \n",
    "    vars:            39                          20 Feb 2018 20:27\n",
    "    size:     2,373,514                         \n",
    "    ---------------------------------------------------------------------------------------------------------------\n",
    "                  storage   display    value\n",
    "    variable name   type    format     label      variable label\n",
    "    --------------------------------------------------------------------------------------------------------------\n",
    "    country_name    str130  %130s                 Country.Name\n",
    "    country_code    int     %10.0g                Country.Code\n",
    "    country_iso_3~e str3    %9s                   Country.ISO-3 code\n",
    "    year            float   %9.0g                 year\n",
    "    bca_gdp_bp6     float   %8.0g                 Balance on goods and services, percent of GDP in U.S. dollars\n",
    "    bfd_gdp_bp6     float   %8.0g                 Direct investment, (BPM6), percent of GDP in U.S. dollars\n",
    "    d_gdp           float   %8.0g                 Total external debt, gross, percent of GDP in U.S. dollars\n",
    "    ggxcnl_gdp      float   %8.0g                 General govt net lending/borrowing, national currency, percent\n",
    "                                                    of fiscal year GDP\n",
    "    ggxofb_gdp      float   %8.0g                 General government overall fiscal balance, percent of Fiscal\n",
    "                                                    year GDP\n",
    "    ggxwdg_gdp      float   %8.0g                 General government gross debt, percent of Fiscal year GDP\n",
    "    iar_gdp_bp6     float   %8.0g                 Reserve Assets (Inc. reserve position in the Fund and SDR \n",
    "                                                    holdings), percent of GDP in U.S. dollars\n",
    "    ngdpd           float   %8.0g                 Gross domestic product, current prices in U.S. dollars\n",
    "    ngdpdpc         float   %8.0g                 Gross domestic product per capita, current prices in U.S. dollars\n",
    "    ngdp_rpch       float   %8.0g                 GDP, constant prices in national currency, percent change\n",
    "    pcpie_pch       float   %8.0g                 Consumer Prices, end-of-period, percent change\n",
    "    PRGT            int     %10.0g                Dummy\n",
    "    gra_credit      double  %10.0g                GRA Credit Outstanding\n",
    "    prgt_credit     long    %10.0g                PRGT Credit Outstanding\n",
    "    quota           double  %10.0g                Quota\n",
    "    arrangement_t~e str16   %16s                  Arrangement Type\n",
    "    exceptional_a~s byte    %10.0g                Exceptional Access\n",
    "    precautionary   byte    %10.0g                Precautionary (Using MONA)\n",
    "    actual_expiry   int     %10.0g                Actual Expiry Year\n",
    "    post2011        float   %9.0g                \n",
    "    region          str6    %9s                   Region\n",
    "    small_state     byte    %10.0g                Small State\n",
    "    fuel_exporter   byte    %10.0g                Fuel Exporter\n",
    "    exchange_rate   float   %9.0g                \n",
    "    trade_openness  float   %9.0g                \n",
    "    fragile         byte    %10.0g               \n",
    "    iip             double  %10.0g               \n",
    "    prg_length      float   %9.0g                 Program Length\n",
    "    eff             float   %9.0g                \n",
    "    sba             float   %9.0g                \n",
    "    pll             float   %9.0g                \n",
    "    ecf             float   %9.0g                \n",
    "    esf             float   %9.0g                \n",
    "    scf             float   %9.0g                \n",
    "    blend           float   %9.0g    \n",
    "    DCP             float   %9.0g                 Domestic Credit to the Private Sector (% of GDP)\n",
    "\n",
    "    ICRG variables added:\n",
    "    Bureaucracy Quality (L)\n",
    "    Corruption (F)\n",
    "    Democratic Accountability (K)\n",
    "    Ethnic Tensions (J)\n",
    "    External Conflict (E)\n",
    "    Government Stability (A)\n",
    "    Internal Conflict (D)\n",
    "    Investment Profile (C)\n",
    "    Law & Order (I)\n",
    "    Military in Politics (G)\n",
    "    Religious Tensions (H)\n",
    "    Socioeconomic Conditions (B)\n",
    "\n",
    "    --------------------------------------------------------------------------------------------------------------\n",
    "\n",
    "    Sorted by: country_code  year"
   ]
  },
  {
   "cell_type": "markdown",
   "metadata": {},
   "source": [
    "## To do list:\n",
    "1) Regularize  \n",
    "2) Straightforward clustering    \n",
    "3) Dimensionality reduction - PCA  \n",
    "4) Try LASSO on a poission regression  (predicting program membership)\n",
    "\n",
    "#### Start with the following:\n",
    "bca_gdp_bp6 d_gdp iar_gdp_bp6 ngdpdpc small_state fuel_exporter fragile exchange_rate trade_openness"
   ]
  },
  {
   "cell_type": "markdown",
   "metadata": {},
   "source": [
    "#### Regularization"
   ]
  },
  {
   "cell_type": "code",
   "execution_count": 13,
   "metadata": {
    "scrolled": true
   },
   "outputs": [
    {
     "data": {
      "text/html": [
       "<div>\n",
       "<style>\n",
       "    .dataframe thead tr:only-child th {\n",
       "        text-align: right;\n",
       "    }\n",
       "\n",
       "    .dataframe thead th {\n",
       "        text-align: left;\n",
       "    }\n",
       "\n",
       "    .dataframe tbody tr th {\n",
       "        vertical-align: top;\n",
       "    }\n",
       "</style>\n",
       "<table border=\"1\" class=\"dataframe\">\n",
       "  <thead>\n",
       "    <tr style=\"text-align: right;\">\n",
       "      <th></th>\n",
       "      <th>0</th>\n",
       "      <th>1</th>\n",
       "      <th>2</th>\n",
       "      <th>3</th>\n",
       "      <th>4</th>\n",
       "      <th>5</th>\n",
       "      <th>6</th>\n",
       "      <th>7</th>\n",
       "      <th>8</th>\n",
       "      <th>9</th>\n",
       "    </tr>\n",
       "  </thead>\n",
       "  <tbody>\n",
       "    <tr>\n",
       "      <th>0</th>\n",
       "      <td>-1.5</td>\n",
       "      <td>0.047191</td>\n",
       "      <td>0.216962</td>\n",
       "      <td>-0.820355</td>\n",
       "      <td>1.840298</td>\n",
       "      <td>-0.454148</td>\n",
       "      <td>-0.411943</td>\n",
       "      <td>-0.467134</td>\n",
       "      <td>1.298103</td>\n",
       "      <td>-0.861645</td>\n",
       "    </tr>\n",
       "    <tr>\n",
       "      <th>1</th>\n",
       "      <td>-1.0</td>\n",
       "      <td>0.067276</td>\n",
       "      <td>0.200902</td>\n",
       "      <td>-0.816194</td>\n",
       "      <td>1.925956</td>\n",
       "      <td>-0.454148</td>\n",
       "      <td>-0.411943</td>\n",
       "      <td>-0.467134</td>\n",
       "      <td>1.298103</td>\n",
       "      <td>-0.844845</td>\n",
       "    </tr>\n",
       "    <tr>\n",
       "      <th>2</th>\n",
       "      <td>-0.5</td>\n",
       "      <td>0.115439</td>\n",
       "      <td>0.211225</td>\n",
       "      <td>-0.859581</td>\n",
       "      <td>1.994432</td>\n",
       "      <td>-0.454148</td>\n",
       "      <td>-0.411943</td>\n",
       "      <td>-0.467134</td>\n",
       "      <td>1.298103</td>\n",
       "      <td>-0.863153</td>\n",
       "    </tr>\n",
       "    <tr>\n",
       "      <th>3</th>\n",
       "      <td>0.0</td>\n",
       "      <td>0.110947</td>\n",
       "      <td>0.217043</td>\n",
       "      <td>-0.869416</td>\n",
       "      <td>2.093054</td>\n",
       "      <td>-0.454148</td>\n",
       "      <td>-0.411943</td>\n",
       "      <td>-0.467134</td>\n",
       "      <td>1.298103</td>\n",
       "      <td>-0.849050</td>\n",
       "    </tr>\n",
       "    <tr>\n",
       "      <th>4</th>\n",
       "      <td>0.5</td>\n",
       "      <td>0.088506</td>\n",
       "      <td>0.187546</td>\n",
       "      <td>-0.888394</td>\n",
       "      <td>2.183165</td>\n",
       "      <td>-0.454148</td>\n",
       "      <td>-0.411943</td>\n",
       "      <td>-0.467134</td>\n",
       "      <td>1.298103</td>\n",
       "      <td>-0.849050</td>\n",
       "    </tr>\n",
       "  </tbody>\n",
       "</table>\n",
       "</div>"
      ],
      "text/plain": [
       "     0         1         2         3         4         5         6         7  \\\n",
       "0 -1.5  0.047191  0.216962 -0.820355  1.840298 -0.454148 -0.411943 -0.467134   \n",
       "1 -1.0  0.067276  0.200902 -0.816194  1.925956 -0.454148 -0.411943 -0.467134   \n",
       "2 -0.5  0.115439  0.211225 -0.859581  1.994432 -0.454148 -0.411943 -0.467134   \n",
       "3  0.0  0.110947  0.217043 -0.869416  2.093054 -0.454148 -0.411943 -0.467134   \n",
       "4  0.5  0.088506  0.187546 -0.888394  2.183165 -0.454148 -0.411943 -0.467134   \n",
       "\n",
       "          8         9  \n",
       "0  1.298103 -0.861645  \n",
       "1  1.298103 -0.844845  \n",
       "2  1.298103 -0.863153  \n",
       "3  1.298103 -0.849050  \n",
       "4  1.298103 -0.849050  "
      ]
     },
     "execution_count": 13,
     "metadata": {},
     "output_type": "execute_result"
    }
   ],
   "source": [
    "#columns seven until twentysix is the full sample; 7-16 is the smaller df. note that row 7 is the time dimension.\n",
    "from sklearn.preprocessing import StandardScaler\n",
    "\n",
    "scaler = StandardScaler()\n",
    "X_scaled = scaler.fit_transform(df.iloc[:, 6:16])\n",
    "df1=pd.DataFrame(X_scaled)\n",
    "df1.head(5)"
   ]
  },
  {
   "cell_type": "markdown",
   "metadata": {
    "collapsed": true
   },
   "source": [
    "### Trial 1: Straightforward Clustering"
   ]
  },
  {
   "cell_type": "code",
   "execution_count": 14,
   "metadata": {
    "collapsed": true
   },
   "outputs": [],
   "source": [
    "%matplotlib inline\n",
    "from collections import Counter\n",
    "import random\n",
    "from sklearn import cluster, metrics"
   ]
  },
  {
   "cell_type": "markdown",
   "metadata": {},
   "source": [
    "**First, we must determine how many clusters we need.**"
   ]
  },
  {
   "cell_type": "code",
   "execution_count": 21,
   "metadata": {
    "scrolled": true
   },
   "outputs": [
    {
     "data": {
      "image/png": "[encoded data removed]",
      "text/plain": [
       "<matplotlib.figure.Figure at 0x294b6f90160>"
      ]
     },
     "metadata": {},
     "output_type": "display_data"
    }
   ],
   "source": [
    "# calculate SC for K=2 through K=15\n",
    "k_range = range(2,30)\n",
    "scores = []\n",
    "for k in k_range:\n",
    "    km = cluster.KMeans(n_clusters=k, random_state=12)\n",
    "    km.fit(X_scaled)\n",
    "    scores.append(metrics.silhouette_score(X_scaled, km.labels_))\n",
    "\n",
    "# plot the results\n",
    "plt.plot(k_range, scores)\n",
    "plt.xlabel('Number of clusters')\n",
    "plt.ylabel('Silhouette Coefficient')\n",
    "plt.title('Optimal # of clusters - KMeans')\n",
    "plt.grid(True)"
   ]
  },
  {
   "cell_type": "code",
   "execution_count": 16,
   "metadata": {},
   "outputs": [
    {
     "data": {
      "image/png": "[encoded data removed]",
      "text/plain": [
       "<matplotlib.figure.Figure at 0x294b50c4438>"
      ]
     },
     "metadata": {},
     "output_type": "display_data"
    }
   ],
   "source": [
    "from sklearn.cluster import KMeans\n",
    "import pylab as pl\n",
    "Nc = range(1, 30)\n",
    "kmeans = [KMeans(n_clusters=i) for i in Nc]\n",
    "kmeans\n",
    "score = [kmeans[i].fit(X_scaled).score(X_scaled) for i in range(len(kmeans))]\n",
    "score\n",
    "pl.plot(Nc,score)\n",
    "pl.xlabel('Number of Clusters')\n",
    "pl.ylabel('Distortion generated from the cost function')\n",
    "pl.title('Elbow Method - KMeans')\n",
    "pl.show()"
   ]
  },
  {
   "cell_type": "markdown",
   "metadata": {},
   "source": [
    "No elbow."
   ]
  },
  {
   "cell_type": "code",
   "execution_count": 23,
   "metadata": {},
   "outputs": [
    {
     "data": {
      "image/png": "[encoded data removed]",
      "text/plain": [
       "<matplotlib.figure.Figure at 0x294b6f68a58>"
      ]
     },
     "metadata": {},
     "output_type": "display_data"
    }
   ],
   "source": [
    "# calculate SC for K=2 through K=30\n",
    "from sklearn.cluster import AgglomerativeClustering\n",
    "k_range = range(2, 30)\n",
    "scores = []\n",
    "for k in k_range:\n",
    "    hc = AgglomerativeClustering(n_clusters=k)\n",
    "    hc.fit(X_scaled)\n",
    "    scores.append(metrics.silhouette_score(X_scaled, hc.labels_))\n",
    "\n",
    "# plot the results\n",
    "plt.plot(k_range, scores)\n",
    "plt.xlabel('Number of clusters')\n",
    "plt.ylabel('Silhouette Coefficient')\n",
    "plt.title('Program Countries - Hierarchical')\n",
    "plt.grid(True)"
   ]
  },
  {
   "cell_type": "markdown",
   "metadata": {
    "collapsed": true
   },
   "source": [
    "7 clusters seem to be ideal."
   ]
  },
  {
   "cell_type": "code",
   "execution_count": 18,
   "metadata": {},
   "outputs": [
    {
     "name": "stdout",
     "output_type": "stream",
     "text": [
      "number of estimated clusters : 9\n",
      "Counter({0: 1186, 3: 36, 6: 30, 5: 26, 7: 22, 1: 21, 2: 18, 4: 11, 8: 1})\n"
     ]
    }
   ],
   "source": [
    "import numpy as np\n",
    "from sklearn.cluster import MeanShift, estimate_bandwidth\n",
    "\n",
    "# The following bandwidth can be automatically detected using\n",
    "bandwidth = estimate_bandwidth(X_scaled, quantile=0.2, n_samples=500)\n",
    "\n",
    "ms = MeanShift(bandwidth=bandwidth, bin_seeding=True)\n",
    "ms.fit(X_scaled)\n",
    "labels = ms.labels_\n",
    "cluster_centers = ms.cluster_centers_\n",
    "\n",
    "df['cluster'] = ms.labels_\n",
    "df.sort_values(by='cluster')\n",
    "writer = pd.ExcelWriter('Test.xlsx', engine='xlsxwriter')\n",
    "df.to_excel(writer, sheet_name='MS')\n",
    "writer.save()\n",
    "\n",
    "labels_unique = np.unique(labels)\n",
    "n_clusters_ = len(labels_unique)\n",
    "\n",
    "print(\"number of estimated clusters : %d\" % n_clusters_)\n",
    "labels = ms.labels_\n",
    "print(Counter(labels))"
   ]
  },
  {
   "cell_type": "markdown",
   "metadata": {},
   "source": [
    "Meanshift clustering shows 9 clusters."
   ]
  },
  {
   "cell_type": "markdown",
   "metadata": {},
   "source": [
    "#### Testing K-Means on 7 clusters."
   ]
  },
  {
   "cell_type": "code",
   "execution_count": 25,
   "metadata": {},
   "outputs": [
    {
     "name": "stdout",
     "output_type": "stream",
     "text": [
      "Counter({0: 500, 5: 230, 2: 212, 3: 175, 1: 158, 6: 55, 4: 21})\n"
     ]
    }
   ],
   "source": [
    "# K-means with 7 clusters on scaled data\n",
    "km = cluster.KMeans(n_clusters=7, random_state=14)\n",
    "km.fit(X_scaled)\n",
    "df['cluster'] = km.labels_\n",
    "df.sort_values(by='cluster')\n",
    "\n",
    "writer = pd.ExcelWriter('Test.xlsx', engine='xlsxwriter')\n",
    "df.to_excel(writer, sheet_name='KM')\n",
    "writer.save()\n",
    "\n",
    "labels = km.labels_\n",
    "print(Counter(labels))"
   ]
  },
  {
   "cell_type": "code",
   "execution_count": 26,
   "metadata": {},
   "outputs": [
    {
     "name": "stdout",
     "output_type": "stream",
     "text": [
      "Counter({0: 508, 1: 234, 2: 208, 3: 167, 5: 155, 4: 58, 6: 21})\n"
     ]
    }
   ],
   "source": [
    "# Supplementary: run Hierarchical clustering\n",
    "# Fit an estimator\n",
    "hc = AgglomerativeClustering(n_clusters=7)\n",
    "hc.fit(X_scaled)\n",
    "\n",
    "# Clusters are given in the labels_ attribute\n",
    "df['cluster'] = hc.labels_\n",
    "df.sort_values(by='cluster')\n",
    "writer = pd.ExcelWriter('Test.xlsx', engine='xlsxwriter')\n",
    "df.to_excel(writer, sheet_name='HC')\n",
    "writer.save()\n",
    "\n",
    "labels = hc.labels_\n",
    "print(Counter(labels))"
   ]
  },
  {
   "cell_type": "markdown",
   "metadata": {},
   "source": [
    "## Trial 2. PCA (dimensionality reduction), then Clustering"
   ]
  },
  {
   "cell_type": "code",
   "execution_count": 27,
   "metadata": {},
   "outputs": [
    {
     "data": {
      "text/html": [
       "<div>\n",
       "<style>\n",
       "    .dataframe thead tr:only-child th {\n",
       "        text-align: right;\n",
       "    }\n",
       "\n",
       "    .dataframe thead th {\n",
       "        text-align: left;\n",
       "    }\n",
       "\n",
       "    .dataframe tbody tr th {\n",
       "        vertical-align: top;\n",
       "    }\n",
       "</style>\n",
       "<table border=\"1\" class=\"dataframe\">\n",
       "  <thead>\n",
       "    <tr style=\"text-align: right;\">\n",
       "      <th></th>\n",
       "      <th>country_name</th>\n",
       "      <th>country_code</th>\n",
       "      <th>country_iso_3_code</th>\n",
       "      <th>code</th>\n",
       "      <th>region</th>\n",
       "      <th>Program yes no</th>\n",
       "      <th>year</th>\n",
       "    </tr>\n",
       "  </thead>\n",
       "  <tbody>\n",
       "    <tr>\n",
       "      <th>0</th>\n",
       "      <td>United States</td>\n",
       "      <td>111</td>\n",
       "      <td>USA</td>\n",
       "      <td>1112011</td>\n",
       "      <td>WHD</td>\n",
       "      <td>0</td>\n",
       "      <td>2011</td>\n",
       "    </tr>\n",
       "    <tr>\n",
       "      <th>1</th>\n",
       "      <td>United States</td>\n",
       "      <td>111</td>\n",
       "      <td>USA</td>\n",
       "      <td>1112012</td>\n",
       "      <td>WHD</td>\n",
       "      <td>0</td>\n",
       "      <td>2012</td>\n",
       "    </tr>\n",
       "    <tr>\n",
       "      <th>2</th>\n",
       "      <td>United States</td>\n",
       "      <td>111</td>\n",
       "      <td>USA</td>\n",
       "      <td>1112013</td>\n",
       "      <td>WHD</td>\n",
       "      <td>0</td>\n",
       "      <td>2013</td>\n",
       "    </tr>\n",
       "    <tr>\n",
       "      <th>3</th>\n",
       "      <td>United States</td>\n",
       "      <td>111</td>\n",
       "      <td>USA</td>\n",
       "      <td>1112014</td>\n",
       "      <td>WHD</td>\n",
       "      <td>0</td>\n",
       "      <td>2014</td>\n",
       "    </tr>\n",
       "    <tr>\n",
       "      <th>4</th>\n",
       "      <td>United States</td>\n",
       "      <td>111</td>\n",
       "      <td>USA</td>\n",
       "      <td>1112015</td>\n",
       "      <td>WHD</td>\n",
       "      <td>0</td>\n",
       "      <td>2015</td>\n",
       "    </tr>\n",
       "  </tbody>\n",
       "</table>\n",
       "</div>"
      ],
      "text/plain": [
       "    country_name  country_code country_iso_3_code     code region  \\\n",
       "0  United States           111                USA  1112011    WHD   \n",
       "1  United States           111                USA  1112012    WHD   \n",
       "2  United States           111                USA  1112013    WHD   \n",
       "3  United States           111                USA  1112014    WHD   \n",
       "4  United States           111                USA  1112015    WHD   \n",
       "\n",
       "   Program yes no  year  \n",
       "0               0  2011  \n",
       "1               0  2012  \n",
       "2               0  2013  \n",
       "3               0  2014  \n",
       "4               0  2015  "
      ]
     },
     "execution_count": 27,
     "metadata": {},
     "output_type": "execute_result"
    }
   ],
   "source": [
    "#Grabbing metadata for future use\n",
    "metadata=df.iloc[:, 0:7]\n",
    "metadata.head(5)"
   ]
  },
  {
   "cell_type": "code",
   "execution_count": 38,
   "metadata": {
    "collapsed": true
   },
   "outputs": [],
   "source": [
    "#define X as the features; y as the program\n",
    "\n",
    "X = df.iloc[:,6:16].values\n",
    "y = df.iloc[:,5].values #beginning in value 6\n",
    "\n",
    "from sklearn.preprocessing import StandardScaler\n",
    "X_std = StandardScaler().fit_transform(X)"
   ]
  },
  {
   "cell_type": "code",
   "execution_count": 39,
   "metadata": {},
   "outputs": [
    {
     "name": "stdout",
     "output_type": "stream",
     "text": [
      "Eigenvectors \n",
      "[[  3.32266161e-02  -4.48387253e-02  -1.79946350e-02   8.92483547e-01\n",
      "    3.70632798e-01  -2.46804002e-01  -1.39598077e-02  -3.79599114e-02\n",
      "   -1.08656606e-02  -1.11319686e-04]\n",
      " [ -3.66055473e-01   2.41115987e-01   4.60583763e-01   4.31390258e-02\n",
      "   -1.05532024e-01  -1.59083144e-01   3.61028539e-01   1.85238230e-01\n",
      "   -4.26383889e-01  -4.59309927e-01]\n",
      " [ -3.98408097e-01   4.24496077e-02  -3.20358003e-01   1.77309790e-01\n",
      "   -1.04667277e-01   4.70674748e-01  -5.31254619e-01   5.84553737e-02\n",
      "   -7.76057822e-02  -4.25722787e-01]\n",
      " [  4.89075053e-02   3.41483731e-01  -7.38905751e-03  -1.39724609e-01\n",
      "    7.28667777e-01   5.12385446e-01   2.52235802e-01   5.59698476e-02\n",
      "   -2.70863891e-02   2.08466400e-02]\n",
      " [ -5.43959200e-01   2.42738397e-01   5.40993540e-02   4.49248762e-02\n",
      "   -4.64380707e-02  -8.12046070e-02   1.63239648e-01   6.18261049e-02\n",
      "    7.69101999e-01   9.74846478e-02]\n",
      " [  3.04365000e-01   4.46544555e-01  -3.95724537e-01  -2.92307517e-02\n",
      "   -5.41901520e-02  -2.98799070e-01  -6.11587926e-02   6.63425177e-01\n",
      "    4.29177664e-02  -1.12137446e-01]\n",
      " [  5.75491974e-02   1.99450669e-01   6.52599697e-01   3.05124754e-02\n",
      "    3.37050355e-02   7.63967638e-02  -5.84607850e-01   2.68983655e-01\n",
      "    7.79537500e-04   3.30149204e-01]\n",
      " [  3.54029529e-01  -5.96521072e-02   1.57966206e-01   3.47852218e-01\n",
      "   -4.53491902e-01   5.62164475e-01   3.49115585e-01   2.21214882e-01\n",
      "    1.79950667e-01  -1.63239313e-02]\n",
      " [ -4.04046077e-01  -4.49953923e-01  -1.59605077e-01   8.48759349e-03\n",
      "    6.24582136e-02   8.21049903e-02   1.53979041e-01   5.44203560e-01\n",
      "   -2.55505451e-01   4.61465124e-01]\n",
      " [ -1.52796308e-01   5.63309877e-01  -2.21397438e-01   1.60541329e-01\n",
      "   -3.06263486e-01   7.22849147e-02   7.65766997e-02  -3.10314374e-01\n",
      "   -3.46838119e-01   5.12900393e-01]]\n",
      "\n",
      "Eigenvalues \n",
      "[ 2.02393402  1.60477215  1.3544375   1.01386334  0.99611322  0.80221445\n",
      "  0.73381684  0.44108373  0.45033912  0.57942564]\n"
     ]
    }
   ],
   "source": [
    "#Define correlation matrix and perform eigendecomposition\n",
    "cor_mat1 = np.corrcoef(X_std.T) #correlations of standardized data\n",
    "cor_mat2 = np.corrcoef(X.T) #correlations of raw data\n",
    "\n",
    "eig_vals, eig_vecs = np.linalg.eig(cor_mat2)\n",
    "\n",
    "print('Eigenvectors \\n%s' %eig_vecs)\n",
    "print('\\nEigenvalues \\n%s' %eig_vals)"
   ]
  },
  {
   "cell_type": "code",
   "execution_count": 40,
   "metadata": {},
   "outputs": [
    {
     "name": "stdout",
     "output_type": "stream",
     "text": [
      "Eigenvalues in descending order:\n",
      "2.02393402132\n",
      "1.60477215312\n",
      "1.35443749843\n",
      "1.01386333831\n",
      "0.996113218135\n",
      "0.802214451148\n",
      "0.733816835839\n",
      "0.579425639383\n",
      "0.45033911931\n",
      "0.441083725001\n"
     ]
    }
   ],
   "source": [
    "# Make a list of (eigenvalue, eigenvector) tuples\n",
    "eig_pairs = [(np.abs(eig_vals[i]), eig_vecs[:,i]) for i in range(len(eig_vals))]\n",
    "\n",
    "# Sort the (eigenvalue, eigenvector) tuples from high to low\n",
    "eig_pairs.sort()\n",
    "eig_pairs.reverse()\n",
    "\n",
    "# Visually confirm that the list is correctly sorted by decreasing eigenvalues\n",
    "print('Eigenvalues in descending order:')\n",
    "for i in eig_pairs:\n",
    "    print(i[0])"
   ]
  },
  {
   "cell_type": "code",
   "execution_count": 42,
   "metadata": {},
   "outputs": [
    {
     "name": "stdout",
     "output_type": "stream",
     "text": [
      "   cumulative variance pca #1 pca#2  variance explained\n",
      "0            20.239340   PC 1  PC 1           20.239340\n",
      "1            36.287062   PC 2  PC 2           16.047722\n",
      "2            49.831437   PC 3  PC 3           13.544375\n",
      "3            59.970070   PC 4  PC 4           10.138633\n",
      "4            69.931202   PC 5  PC 5            9.961132\n",
      "5            77.953347   PC 6  PC 6            8.022145\n",
      "6            85.291515   PC 7  PC 7            7.338168\n",
      "7            91.085772   PC 8  PC 8            5.794256\n",
      "8            95.589163   PC 9  PC 9            4.503391\n"
     ]
    }
   ],
   "source": [
    "tot = sum(eig_vals)\n",
    "var_exp = [(i / tot)*100 for i in sorted(eig_vals, reverse=True)]\n",
    "cum_var_exp = np.cumsum(var_exp)\n",
    "\n",
    "x_bar= ['PC %s'%i for i in range(1,10)]\n",
    "y_bar= var_exp[:9]\n",
    "\n",
    "x_line= ['PC %s' %i for i in range(1,10)] \n",
    "y_line= cum_var_exp[:9]\n",
    "\n",
    "chart = pd.DataFrame(\n",
    "    {'pca #1': x_bar,\n",
    "     'variance explained': y_bar,\n",
    "     'pca#2':x_line,\n",
    "     'cumulative variance':y_line,\n",
    "    })\n",
    "\n",
    "print(chart)"
   ]
  },
  {
   "cell_type": "markdown",
   "metadata": {},
   "source": [
    "**Am happy with 6 PCAs amounting to 85% variance**"
   ]
  },
  {
   "cell_type": "code",
   "execution_count": 43,
   "metadata": {},
   "outputs": [
    {
     "data": {
      "text/plain": [
       "<matplotlib.legend.Legend at 0x294b4e08748>"
      ]
     },
     "execution_count": 43,
     "metadata": {},
     "output_type": "execute_result"
    },
    {
     "data": {
      "image/png": "[encoded data removed]",
      "text/plain": [
       "<matplotlib.figure.Figure at 0x294b4e08860>"
      ]
     },
     "metadata": {},
     "output_type": "display_data"
    }
   ],
   "source": [
    "chart['variance explained'].plot(kind='bar')\n",
    "chart['cumulative variance'].plot(kind='line', color='green')\n",
    "plt.legend()"
   ]
  },
  {
   "cell_type": "code",
   "execution_count": 44,
   "metadata": {
    "collapsed": true
   },
   "outputs": [],
   "source": [
    "from sklearn.decomposition import PCA\n",
    "from scipy import stats\n",
    "\n",
    "pca = PCA(n_components=6)\n",
    "Y_sklearn = pca.fit_transform(X_std)"
   ]
  },
  {
   "cell_type": "markdown",
   "metadata": {},
   "source": [
    "Now it's time to cluster the 6 PCA components. But first, let's convert to a df and combine with the metadata."
   ]
  },
  {
   "cell_type": "code",
   "execution_count": 46,
   "metadata": {
    "collapsed": true
   },
   "outputs": [],
   "source": [
    "pca_df = pd.DataFrame(Y_sklearn)\n",
    "#outer join with metadata\n",
    "#pca_df = pd.concat([metadata, pca_df], axis=1)"
   ]
  },
  {
   "cell_type": "code",
   "execution_count": 52,
   "metadata": {},
   "outputs": [
    {
     "data": {
      "image/png": "[encoded data removed]",
      "text/plain": [
       "<matplotlib.figure.Figure at 0x294b4e08588>"
      ]
     },
     "metadata": {},
     "output_type": "display_data"
    }
   ],
   "source": [
    "# calculate SC for K=2 through K=30\n",
    "k_range = range(2, 10)\n",
    "scores = []\n",
    "for k in k_range:\n",
    "    km = cluster.KMeans(n_clusters=k, random_state=12)\n",
    "    km.fit(pca_df)\n",
    "    scores.append(metrics.silhouette_score(pca_df, km.labels_))\n",
    "\n",
    "# plot the results\n",
    "plt.plot(k_range, scores)\n",
    "plt.xlabel('Number of clusters')\n",
    "plt.ylabel('Silhouette Coefficient')\n",
    "plt.title('Optimal # clusters - KMeans')\n",
    "plt.grid(True)"
   ]
  },
  {
   "cell_type": "markdown",
   "metadata": {},
   "source": [
    "<b> 6 clusters showing."
   ]
  },
  {
   "cell_type": "code",
   "execution_count": 51,
   "metadata": {},
   "outputs": [
    {
     "data": {
      "image/png": "[encoded data removed]",
      "text/plain": [
       "<matplotlib.figure.Figure at 0x294af9d09e8>"
      ]
     },
     "metadata": {},
     "output_type": "display_data"
    }
   ],
   "source": [
    "# calculate SC for K=2 through K=70\n",
    "from sklearn.cluster import AgglomerativeClustering\n",
    "k_range = range(2, 10)\n",
    "scores = []\n",
    "for k in k_range:\n",
    "    hc = AgglomerativeClustering(n_clusters=k)\n",
    "    hc.fit(pca_df)\n",
    "    scores.append(metrics.silhouette_score(pca_df, hc.labels_))\n",
    "\n",
    "# plot the results\n",
    "plt.plot(k_range, scores)\n",
    "plt.xlabel('Number of clusters')\n",
    "plt.ylabel('Silhouette Coefficient')\n",
    "plt.title('Optimal # clusters - Hierarchical')\n",
    "plt.grid(True)"
   ]
  },
  {
   "cell_type": "markdown",
   "metadata": {},
   "source": [
    "<b> Hierarchical clusters at 6-7 clusters."
   ]
  },
  {
   "cell_type": "code",
   "execution_count": 56,
   "metadata": {},
   "outputs": [
    {
     "name": "stdout",
     "output_type": "stream",
     "text": [
      "Counter({2: 498, 0: 242, 4: 216, 1: 187, 3: 151, 5: 57})\n"
     ]
    }
   ],
   "source": [
    "# K-means has the slightly higher silhouette score.  Proceed with 6 clusters on PCA data\n",
    "km = cluster.KMeans(n_clusters=6, random_state=14)\n",
    "km.fit(pca_df)\n",
    "df['cluster'] = km.labels_\n",
    "df.sort_values(by='cluster')\n",
    "\n",
    "writer = pd.ExcelWriter('Test.xlsx', engine='xlsxwriter')\n",
    "df.to_excel(writer, sheet_name='PCA_KM')\n",
    "writer.save()\n",
    "\n",
    "labels = km.labels_\n",
    "print(Counter(labels))"
   ]
  },
  {
   "cell_type": "code",
   "execution_count": 57,
   "metadata": {},
   "outputs": [
    {
     "name": "stdout",
     "output_type": "stream",
     "text": [
      "Counter({1: 507, 0: 240, 3: 210, 4: 196, 5: 134, 2: 64})\n"
     ]
    }
   ],
   "source": [
    "# Fit an estimator\n",
    "hc = AgglomerativeClustering(n_clusters=6)\n",
    "hc.fit(pca_df)\n",
    "\n",
    "# Clusters are given in the labels_ attribute\n",
    "df['cluster'] = hc.labels_\n",
    "df.sort_values(by='cluster')\n",
    "writer = pd.ExcelWriter('Test.xlsx', engine='xlsxwriter')\n",
    "df.to_excel(writer, sheet_name='PCA_HC')\n",
    "writer.save()\n",
    "\n",
    "labels = hc.labels_\n",
    "print(Counter(labels))"
   ]
  },
  {
   "cell_type": "markdown",
   "metadata": {},
   "source": [
    "References: https://plot.ly/ipython-notebooks/principal-component-analysis/"
   ]
  }
 ],
 "metadata": {
  "kernelspec": {
   "display_name": "Python 3",
   "language": "python",
   "name": "python3"
  },
  "language_info": {
   "codemirror_mode": {
    "name": "ipython",
    "version": 3
   },
   "file_extension": ".py",
   "mimetype": "text/x-python",
   "name": "python",
   "nbconvert_exporter": "python",
   "pygments_lexer": "ipython3",
   "version": "3.5.3"
  }
 },
 "nbformat": 4,
 "nbformat_minor": 2
}
