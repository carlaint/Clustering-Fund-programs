{
 "cells": [
  {
   "cell_type": "markdown",
   "metadata": {},
   "source": [
    "# Evenhandedness in Fund Programs\n",
    "\n",
    "## Clustering using Dirichlet Gaussian Mixture Models and K-Means"
   ]
  },
  {
   "cell_type": "code",
   "execution_count": 58,
   "metadata": {
    "collapsed": true
   },
   "outputs": [],
   "source": [
    "import pandas as pd\n",
    "import numpy as np\n",
    "import matplotlib.pyplot as plt\n",
    "import seaborn as sns\n",
    "\n",
    "xls=pd.ExcelFile('Cluster Fund Programs.xlsx')\n",
    "df=pd.read_excel(xls,'GMM')"
   ]
  },
  {
   "cell_type": "code",
   "execution_count": 59,
   "metadata": {
    "scrolled": false
   },
   "outputs": [
    {
     "data": {
      "text/html": [
       "<div>\n",
       "<style>\n",
       "    .dataframe thead tr:only-child th {\n",
       "        text-align: right;\n",
       "    }\n",
       "\n",
       "    .dataframe thead th {\n",
       "        text-align: left;\n",
       "    }\n",
       "\n",
       "    .dataframe tbody tr th {\n",
       "        vertical-align: top;\n",
       "    }\n",
       "</style>\n",
       "<table border=\"1\" class=\"dataframe\">\n",
       "  <thead>\n",
       "    <tr style=\"text-align: right;\">\n",
       "      <th></th>\n",
       "      <th>country_name</th>\n",
       "      <th>country_code</th>\n",
       "      <th>country_iso_3_code</th>\n",
       "      <th>code</th>\n",
       "      <th>region</th>\n",
       "      <th>arrangement_type</th>\n",
       "      <th>year</th>\n",
       "      <th>bca_gdp_bp6</th>\n",
       "      <th>bfd_gdp_bp6</th>\n",
       "      <th>d_gdp</th>\n",
       "      <th>...</th>\n",
       "      <th>exceptional_access</th>\n",
       "      <th>precautionary</th>\n",
       "      <th>prg_length</th>\n",
       "      <th>eff</th>\n",
       "      <th>sba</th>\n",
       "      <th>pll</th>\n",
       "      <th>ecf</th>\n",
       "      <th>esf</th>\n",
       "      <th>scf</th>\n",
       "      <th>blend</th>\n",
       "    </tr>\n",
       "  </thead>\n",
       "  <tbody>\n",
       "    <tr>\n",
       "      <th>0</th>\n",
       "      <td>Greece</td>\n",
       "      <td>174</td>\n",
       "      <td>GRC</td>\n",
       "      <td>1742010</td>\n",
       "      <td>EUR</td>\n",
       "      <td>SBA</td>\n",
       "      <td>2010</td>\n",
       "      <td>-11.384279</td>\n",
       "      <td>0.410121</td>\n",
       "      <td>184.71552</td>\n",
       "      <td>...</td>\n",
       "      <td>1</td>\n",
       "      <td>0</td>\n",
       "      <td>2</td>\n",
       "      <td>0</td>\n",
       "      <td>1</td>\n",
       "      <td>0</td>\n",
       "      <td>0</td>\n",
       "      <td>0</td>\n",
       "      <td>0</td>\n",
       "      <td>0</td>\n",
       "    </tr>\n",
       "    <tr>\n",
       "      <th>1</th>\n",
       "      <td>Greece</td>\n",
       "      <td>174</td>\n",
       "      <td>GRC</td>\n",
       "      <td>1742012</td>\n",
       "      <td>EUR</td>\n",
       "      <td>EFF</td>\n",
       "      <td>2012</td>\n",
       "      <td>-3.831144</td>\n",
       "      <td>-0.432627</td>\n",
       "      <td>241.83867</td>\n",
       "      <td>...</td>\n",
       "      <td>1</td>\n",
       "      <td>0</td>\n",
       "      <td>4</td>\n",
       "      <td>1</td>\n",
       "      <td>1</td>\n",
       "      <td>0</td>\n",
       "      <td>0</td>\n",
       "      <td>0</td>\n",
       "      <td>0</td>\n",
       "      <td>0</td>\n",
       "    </tr>\n",
       "    <tr>\n",
       "      <th>2</th>\n",
       "      <td>Iceland</td>\n",
       "      <td>176</td>\n",
       "      <td>ISL</td>\n",
       "      <td>1762008</td>\n",
       "      <td>EUR</td>\n",
       "      <td>SBA</td>\n",
       "      <td>2008</td>\n",
       "      <td>-22.599819</td>\n",
       "      <td>-29.030277</td>\n",
       "      <td>179.86908</td>\n",
       "      <td>...</td>\n",
       "      <td>1</td>\n",
       "      <td>0</td>\n",
       "      <td>3</td>\n",
       "      <td>0</td>\n",
       "      <td>1</td>\n",
       "      <td>0</td>\n",
       "      <td>0</td>\n",
       "      <td>0</td>\n",
       "      <td>0</td>\n",
       "      <td>0</td>\n",
       "    </tr>\n",
       "    <tr>\n",
       "      <th>3</th>\n",
       "      <td>Ireland</td>\n",
       "      <td>178</td>\n",
       "      <td>IRL</td>\n",
       "      <td>1782010</td>\n",
       "      <td>EUR</td>\n",
       "      <td>EFF</td>\n",
       "      <td>2010</td>\n",
       "      <td>-1.197674</td>\n",
       "      <td>-9.715908</td>\n",
       "      <td>1039.38540</td>\n",
       "      <td>...</td>\n",
       "      <td>1</td>\n",
       "      <td>0</td>\n",
       "      <td>3</td>\n",
       "      <td>1</td>\n",
       "      <td>0</td>\n",
       "      <td>0</td>\n",
       "      <td>0</td>\n",
       "      <td>0</td>\n",
       "      <td>0</td>\n",
       "      <td>0</td>\n",
       "    </tr>\n",
       "    <tr>\n",
       "      <th>4</th>\n",
       "      <td>Portugal</td>\n",
       "      <td>182</td>\n",
       "      <td>PRT</td>\n",
       "      <td>1822011</td>\n",
       "      <td>EUR</td>\n",
       "      <td>EFF</td>\n",
       "      <td>2011</td>\n",
       "      <td>-6.001705</td>\n",
       "      <td>2.453360</td>\n",
       "      <td>207.26927</td>\n",
       "      <td>...</td>\n",
       "      <td>1</td>\n",
       "      <td>0</td>\n",
       "      <td>3</td>\n",
       "      <td>1</td>\n",
       "      <td>0</td>\n",
       "      <td>0</td>\n",
       "      <td>0</td>\n",
       "      <td>0</td>\n",
       "      <td>0</td>\n",
       "      <td>0</td>\n",
       "    </tr>\n",
       "  </tbody>\n",
       "</table>\n",
       "<p>5 rows × 37 columns</p>\n",
       "</div>"
      ],
      "text/plain": [
       "  country_name  country_code country_iso_3_code     code region  \\\n",
       "0       Greece           174                GRC  1742010    EUR   \n",
       "1       Greece           174                GRC  1742012    EUR   \n",
       "2      Iceland           176                ISL  1762008    EUR   \n",
       "3      Ireland           178                IRL  1782010    EUR   \n",
       "4     Portugal           182                PRT  1822011    EUR   \n",
       "\n",
       "  arrangement_type  year  bca_gdp_bp6  bfd_gdp_bp6       d_gdp  ...    \\\n",
       "0              SBA  2010   -11.384279     0.410121   184.71552  ...     \n",
       "1              EFF  2012    -3.831144    -0.432627   241.83867  ...     \n",
       "2              SBA  2008   -22.599819   -29.030277   179.86908  ...     \n",
       "3              EFF  2010    -1.197674    -9.715908  1039.38540  ...     \n",
       "4              EFF  2011    -6.001705     2.453360   207.26927  ...     \n",
       "\n",
       "   exceptional_access  precautionary  prg_length  eff  sba  pll  ecf  esf  \\\n",
       "0                   1              0           2    0    1    0    0    0   \n",
       "1                   1              0           4    1    1    0    0    0   \n",
       "2                   1              0           3    0    1    0    0    0   \n",
       "3                   1              0           3    1    0    0    0    0   \n",
       "4                   1              0           3    1    0    0    0    0   \n",
       "\n",
       "   scf  blend  \n",
       "0    0      0  \n",
       "1    0      0  \n",
       "2    0      0  \n",
       "3    0      0  \n",
       "4    0      0  \n",
       "\n",
       "[5 rows x 37 columns]"
      ]
     },
     "execution_count": 59,
     "metadata": {},
     "output_type": "execute_result"
    }
   ],
   "source": [
    "df.head(5)"
   ]
  },
  {
   "cell_type": "code",
   "execution_count": 60,
   "metadata": {},
   "outputs": [
    {
     "data": {
      "text/plain": [
       "(177, 37)"
      ]
     },
     "execution_count": 60,
     "metadata": {},
     "output_type": "execute_result"
    }
   ],
   "source": [
    "#matrix size\n",
    "df.shape"
   ]
  },
  {
   "cell_type": "markdown",
   "metadata": {},
   "source": [
    "** Evenhandedness: Countries in similar circumstances should be treated similarly.**\n",
    "\n",
    "There are two parts to this df. First part is country attributes, columns 8-24; and IMF-imposed variables, columns 25-37. "
   ]
  },
  {
   "cell_type": "code",
   "execution_count": 64,
   "metadata": {},
   "outputs": [],
   "source": [
    "df1= df.iloc[:, 7:24]\n",
    "df2= df.iloc[:,24:37]"
   ]
  },
  {
   "cell_type": "markdown",
   "metadata": {},
   "source": [
    "## Metadata\n",
    "\n",
    "              \n",
    "    ---------------------------------------------------------------------------------------------------------------\n",
    "                  storage   display    value\n",
    "    variable name   type    format     label      variable label\n",
    "    --------------------------------------------------------------------------------------------------------------\n",
    "    country_name    str130  %130s                 Country.Name\n",
    "    country_code    int     %10.0g                Country.Code\n",
    "    country_iso_3~e str3    %9s                   Country.ISO-3 code\n",
    "    year            float   %9.0g                 year\n",
    "    arrangement_t~e str16   %16s                  Arrangement Type\n",
    "    bca_gdp_bp6     float   %8.0g                 Balance on goods and services, percent of GDP in U.S. dollars\n",
    "    bfd_gdp_bp6     float   %8.0g                 Direct investment, (BPM6), percent of GDP in U.S. dollars\n",
    "    d_gdp           float   %8.0g                 Total external debt, gross, percent of GDP in U.S. dollars\n",
    "    ggxcnl_gdp      float   %8.0g                 General govt net lending/borrowing, national currency, percent\n",
    "                                                    of fiscal year GDP\n",
    "    iar_gdp_bp6     float   %8.0g                 Reserve Assets (Inc. reserve position in the Fund and SDR \n",
    "                                                    holdings), percent of GDP in U.S. dollars\n",
    "    ngdpd           float   %8.0g                 Gross domestic product, current prices in U.S. dollars\n",
    "    ngdpdpc         float   %8.0g                 Gross domestic product per capita, current prices in U.S. dollars\n",
    "    ngdp_rpch       float   %8.0g                 GDP, constant prices in national currency, percent change\n",
    "    pcpie_pch       float   %8.0g                 Consumer Prices, end-of-period, percent change\n",
    "    DCP             float   %9.0g                 Domestic Credit to the Private Sector (% of GDP)\n",
    "    region          str6    %9s                   Region\n",
    "    small_state     byte    %10.0g                Small State\n",
    "    fuel_exporter   byte    %10.0g                Fuel Exporter\n",
    "    exchange_rate   float   %9.0g                \n",
    "    trade_openness  float   %9.0g                \n",
    "    fragile         byte    %10.0g               \n",
    "    ICRG_polrisk                                  ICRG Political risk score \n",
    "    \n",
    "    ---------------------------------------------------------------------------------------------------------------\n",
    "                  storage   display    value\n",
    "    variable name   type    format     label      variable label\n",
    "    --------------------------------------------------------------------------------------------------------------\n",
    "    PRGT            int     %10.0g                Dummy\n",
    "    credit_outs     long    %10.0g                Credit Outstanding\n",
    "    quota           double  %10.0g                Quota\n",
    "    exceptional_a~s byte    %10.0g                Exceptional Access\n",
    "    precautionary   byte    %10.0g                Precautionary (Using MONA)\n",
    "    prg_length      float   %9.0g                 Program Length\n",
    "    eff             float   %9.0g                \n",
    "    sba             float   %9.0g                \n",
    "    pll             float   %9.0g                \n",
    "    ecf             float   %9.0g                \n",
    "    esf             float   %9.0g                \n",
    "    scf             float   %9.0g                \n",
    "    blend           float   %9.0g    \n",
    "\n",
    "    --------------------------------------------------------------------------------------------------------------"
   ]
  },
  {
   "cell_type": "markdown",
   "metadata": {},
   "source": [
    "### First, let's use columns 8-24 to cluster \"Countries in similar circumstances\""
   ]
  },
  {
   "cell_type": "markdown",
   "metadata": {},
   "source": [
    "## To do list:\n",
    "1) Compare K-Means results with GMM."
   ]
  },
  {
   "cell_type": "markdown",
   "metadata": {},
   "source": [
    "#### Regularization"
   ]
  },
  {
   "cell_type": "code",
   "execution_count": 74,
   "metadata": {
    "scrolled": false
   },
   "outputs": [
    {
     "data": {
      "text/html": [
       "<div>\n",
       "<style>\n",
       "    .dataframe thead tr:only-child th {\n",
       "        text-align: right;\n",
       "    }\n",
       "\n",
       "    .dataframe thead th {\n",
       "        text-align: left;\n",
       "    }\n",
       "\n",
       "    .dataframe tbody tr th {\n",
       "        vertical-align: top;\n",
       "    }\n",
       "</style>\n",
       "<table border=\"1\" class=\"dataframe\">\n",
       "  <thead>\n",
       "    <tr style=\"text-align: right;\">\n",
       "      <th></th>\n",
       "      <th>0</th>\n",
       "      <th>1</th>\n",
       "      <th>2</th>\n",
       "      <th>3</th>\n",
       "      <th>4</th>\n",
       "      <th>5</th>\n",
       "      <th>6</th>\n",
       "      <th>7</th>\n",
       "      <th>8</th>\n",
       "      <th>9</th>\n",
       "      <th>10</th>\n",
       "      <th>11</th>\n",
       "      <th>12</th>\n",
       "      <th>13</th>\n",
       "      <th>14</th>\n",
       "      <th>15</th>\n",
       "      <th>16</th>\n",
       "    </tr>\n",
       "  </thead>\n",
       "  <tbody>\n",
       "    <tr>\n",
       "      <th>0</th>\n",
       "      <td>-0.475464</td>\n",
       "      <td>0.974506</td>\n",
       "      <td>1.239401</td>\n",
       "      <td>-1.567582</td>\n",
       "      <td>-1.403574</td>\n",
       "      <td>3.273165</td>\n",
       "      <td>3.348084</td>\n",
       "      <td>-1.918951</td>\n",
       "      <td>-0.270581</td>\n",
       "      <td>-0.346775</td>\n",
       "      <td>-0.30429</td>\n",
       "      <td>1.496367</td>\n",
       "      <td>-0.840192</td>\n",
       "      <td>-0.460791</td>\n",
       "      <td>-0.840192</td>\n",
       "      <td>2.352574</td>\n",
       "      <td>1.166106</td>\n",
       "    </tr>\n",
       "    <tr>\n",
       "      <th>1</th>\n",
       "      <td>0.354267</td>\n",
       "      <td>0.822600</td>\n",
       "      <td>1.841674</td>\n",
       "      <td>-0.685492</td>\n",
       "      <td>-1.322931</td>\n",
       "      <td>2.579774</td>\n",
       "      <td>2.643713</td>\n",
       "      <td>-2.329907</td>\n",
       "      <td>-0.772192</td>\n",
       "      <td>-0.346775</td>\n",
       "      <td>-0.30429</td>\n",
       "      <td>1.496367</td>\n",
       "      <td>-0.591533</td>\n",
       "      <td>-0.460791</td>\n",
       "      <td>-0.591533</td>\n",
       "      <td>2.512088</td>\n",
       "      <td>0.943211</td>\n",
       "    </tr>\n",
       "    <tr>\n",
       "      <th>2</th>\n",
       "      <td>-1.707519</td>\n",
       "      <td>-4.332155</td>\n",
       "      <td>1.188302</td>\n",
       "      <td>-1.917889</td>\n",
       "      <td>0.299452</td>\n",
       "      <td>-0.343698</td>\n",
       "      <td>7.502872</td>\n",
       "      <td>-0.309169</td>\n",
       "      <td>1.074047</td>\n",
       "      <td>-0.346775</td>\n",
       "      <td>-0.30429</td>\n",
       "      <td>1.140377</td>\n",
       "      <td>0.059806</td>\n",
       "      <td>-0.460791</td>\n",
       "      <td>0.059806</td>\n",
       "      <td>4.980487</td>\n",
       "      <td>1.866633</td>\n",
       "    </tr>\n",
       "    <tr>\n",
       "      <th>3</th>\n",
       "      <td>0.643561</td>\n",
       "      <td>-0.850720</td>\n",
       "      <td>10.250546</td>\n",
       "      <td>-5.554165</td>\n",
       "      <td>-1.516457</td>\n",
       "      <td>2.278966</td>\n",
       "      <td>6.531677</td>\n",
       "      <td>-0.286216</td>\n",
       "      <td>-0.826575</td>\n",
       "      <td>-0.346775</td>\n",
       "      <td>-0.30429</td>\n",
       "      <td>1.496367</td>\n",
       "      <td>2.945741</td>\n",
       "      <td>-0.460791</td>\n",
       "      <td>2.945741</td>\n",
       "      <td>3.011878</td>\n",
       "      <td>1.707422</td>\n",
       "    </tr>\n",
       "    <tr>\n",
       "      <th>4</th>\n",
       "      <td>0.115826</td>\n",
       "      <td>1.342802</td>\n",
       "      <td>1.477194</td>\n",
       "      <td>-0.838561</td>\n",
       "      <td>-0.698673</td>\n",
       "      <td>2.570968</td>\n",
       "      <td>2.797095</td>\n",
       "      <td>-1.095366</td>\n",
       "      <td>-0.442584</td>\n",
       "      <td>-0.346775</td>\n",
       "      <td>-0.30429</td>\n",
       "      <td>1.496367</td>\n",
       "      <td>-0.244885</td>\n",
       "      <td>-0.460791</td>\n",
       "      <td>-0.244885</td>\n",
       "      <td>3.715858</td>\n",
       "      <td>1.484527</td>\n",
       "    </tr>\n",
       "  </tbody>\n",
       "</table>\n",
       "</div>"
      ],
      "text/plain": [
       "         0         1          2         3         4         5         6   \\\n",
       "0 -0.475464  0.974506   1.239401 -1.567582 -1.403574  3.273165  3.348084   \n",
       "1  0.354267  0.822600   1.841674 -0.685492 -1.322931  2.579774  2.643713   \n",
       "2 -1.707519 -4.332155   1.188302 -1.917889  0.299452 -0.343698  7.502872   \n",
       "3  0.643561 -0.850720  10.250546 -5.554165 -1.516457  2.278966  6.531677   \n",
       "4  0.115826  1.342802   1.477194 -0.838561 -0.698673  2.570968  2.797095   \n",
       "\n",
       "         7         8         9        10        11        12        13  \\\n",
       "0 -1.918951 -0.270581 -0.346775 -0.30429  1.496367 -0.840192 -0.460791   \n",
       "1 -2.329907 -0.772192 -0.346775 -0.30429  1.496367 -0.591533 -0.460791   \n",
       "2 -0.309169  1.074047 -0.346775 -0.30429  1.140377  0.059806 -0.460791   \n",
       "3 -0.286216 -0.826575 -0.346775 -0.30429  1.496367  2.945741 -0.460791   \n",
       "4 -1.095366 -0.442584 -0.346775 -0.30429  1.496367 -0.244885 -0.460791   \n",
       "\n",
       "         14        15        16  \n",
       "0 -0.840192  2.352574  1.166106  \n",
       "1 -0.591533  2.512088  0.943211  \n",
       "2  0.059806  4.980487  1.866633  \n",
       "3  2.945741  3.011878  1.707422  \n",
       "4 -0.244885  3.715858  1.484527  "
      ]
     },
     "execution_count": 74,
     "metadata": {},
     "output_type": "execute_result"
    }
   ],
   "source": [
    "from sklearn.preprocessing import StandardScaler\n",
    "scaler = StandardScaler()\n",
    "x_reg = scaler.fit_transform(df1)\n",
    "\n",
    "xregdf=pd.DataFrame(x_reg)\n",
    "xregdf.head(5)"
   ]
  },
  {
   "cell_type": "code",
   "execution_count": 84,
   "metadata": {},
   "outputs": [],
   "source": [
    "from sklearn.mixture import BayesianGaussianMixture"
   ]
  },
  {
   "cell_type": "code",
   "execution_count": 87,
   "metadata": {},
   "outputs": [
    {
     "ename": "ValueError",
     "evalue": "Fitting the mixture model failed because some components have ill-defined empirical covariance (for instance caused by singleton or collapsed samples). Try to decrease the number of components, or increase reg_covar.",
     "output_type": "error",
     "traceback": [
      "\u001b[1;31m---------------------------------------------------------------------------\u001b[0m",
      "\u001b[1;31mLinAlgError\u001b[0m                               Traceback (most recent call last)",
      "\u001b[1;32mC:\\PROGRAM FILES\\Anaconda\\Anaconda3\\lib\\site-packages\\sklearn\\mixture\\gaussian_mixture.py\u001b[0m in \u001b[0;36m_compute_precision_cholesky\u001b[1;34m(covariances, covariance_type)\u001b[0m\n\u001b[0;32m    317\u001b[0m             \u001b[1;32mtry\u001b[0m\u001b[1;33m:\u001b[0m\u001b[1;33m\u001b[0m\u001b[0m\n\u001b[1;32m--> 318\u001b[1;33m                 \u001b[0mcov_chol\u001b[0m \u001b[1;33m=\u001b[0m \u001b[0mlinalg\u001b[0m\u001b[1;33m.\u001b[0m\u001b[0mcholesky\u001b[0m\u001b[1;33m(\u001b[0m\u001b[0mcovariance\u001b[0m\u001b[1;33m,\u001b[0m \u001b[0mlower\u001b[0m\u001b[1;33m=\u001b[0m\u001b[1;32mTrue\u001b[0m\u001b[1;33m)\u001b[0m\u001b[1;33m\u001b[0m\u001b[0m\n\u001b[0m\u001b[0;32m    319\u001b[0m             \u001b[1;32mexcept\u001b[0m \u001b[0mlinalg\u001b[0m\u001b[1;33m.\u001b[0m\u001b[0mLinAlgError\u001b[0m\u001b[1;33m:\u001b[0m\u001b[1;33m\u001b[0m\u001b[0m\n",
      "\u001b[1;32mC:\\PROGRAM FILES\\Anaconda\\Anaconda3\\lib\\site-packages\\scipy\\linalg\\decomp_cholesky.py\u001b[0m in \u001b[0;36mcholesky\u001b[1;34m(a, lower, overwrite_a, check_finite)\u001b[0m\n\u001b[0;32m     80\u001b[0m     c, lower = _cholesky(a, lower=lower, overwrite_a=overwrite_a, clean=True,\n\u001b[1;32m---> 81\u001b[1;33m                             check_finite=check_finite)\n\u001b[0m\u001b[0;32m     82\u001b[0m     \u001b[1;32mreturn\u001b[0m \u001b[0mc\u001b[0m\u001b[1;33m\u001b[0m\u001b[0m\n",
      "\u001b[1;32mC:\\PROGRAM FILES\\Anaconda\\Anaconda3\\lib\\site-packages\\scipy\\linalg\\decomp_cholesky.py\u001b[0m in \u001b[0;36m_cholesky\u001b[1;34m(a, lower, overwrite_a, clean, check_finite)\u001b[0m\n\u001b[0;32m     29\u001b[0m     \u001b[1;32mif\u001b[0m \u001b[0minfo\u001b[0m \u001b[1;33m>\u001b[0m \u001b[1;36m0\u001b[0m\u001b[1;33m:\u001b[0m\u001b[1;33m\u001b[0m\u001b[0m\n\u001b[1;32m---> 30\u001b[1;33m         \u001b[1;32mraise\u001b[0m \u001b[0mLinAlgError\u001b[0m\u001b[1;33m(\u001b[0m\u001b[1;34m\"%d-th leading minor not positive definite\"\u001b[0m \u001b[1;33m%\u001b[0m \u001b[0minfo\u001b[0m\u001b[1;33m)\u001b[0m\u001b[1;33m\u001b[0m\u001b[0m\n\u001b[0m\u001b[0;32m     31\u001b[0m     \u001b[1;32mif\u001b[0m \u001b[0minfo\u001b[0m \u001b[1;33m<\u001b[0m \u001b[1;36m0\u001b[0m\u001b[1;33m:\u001b[0m\u001b[1;33m\u001b[0m\u001b[0m\n",
      "\u001b[1;31mLinAlgError\u001b[0m: 15-th leading minor not positive definite",
      "\nDuring handling of the above exception, another exception occurred:\n",
      "\u001b[1;31mValueError\u001b[0m                                Traceback (most recent call last)",
      "\u001b[1;32m<ipython-input-87-44e2c8a1fdc0>\u001b[0m in \u001b[0;36m<module>\u001b[1;34m()\u001b[0m\n\u001b[0;32m      3\u001b[0m                               \u001b[0mreg_covar\u001b[0m\u001b[1;33m=\u001b[0m\u001b[1;36m0\u001b[0m\u001b[1;33m,\u001b[0m \u001b[0minit_params\u001b[0m\u001b[1;33m=\u001b[0m\u001b[1;34m'random'\u001b[0m\u001b[1;33m,\u001b[0m \u001b[0mmax_iter\u001b[0m\u001b[1;33m=\u001b[0m\u001b[1;36m1500\u001b[0m\u001b[1;33m,\u001b[0m \u001b[0mmean_precision_prior\u001b[0m\u001b[1;33m=\u001b[0m\u001b[1;36m.8\u001b[0m\u001b[1;33m,\u001b[0m\u001b[1;33m\u001b[0m\u001b[0m\n\u001b[0;32m      4\u001b[0m                               random_state=2702)\n\u001b[1;32m----> 5\u001b[1;33m \u001b[0mbnp\u001b[0m\u001b[1;33m.\u001b[0m\u001b[0mfit\u001b[0m\u001b[1;33m(\u001b[0m\u001b[0mX_scaled\u001b[0m\u001b[1;33m)\u001b[0m\u001b[1;33m\u001b[0m\u001b[0m\n\u001b[0m",
      "\u001b[1;32mC:\\PROGRAM FILES\\Anaconda\\Anaconda3\\lib\\site-packages\\sklearn\\mixture\\base.py\u001b[0m in \u001b[0;36mfit\u001b[1;34m(self, X, y)\u001b[0m\n\u001b[0;32m    205\u001b[0m \u001b[1;33m\u001b[0m\u001b[0m\n\u001b[0;32m    206\u001b[0m             \u001b[1;32mif\u001b[0m \u001b[0mdo_init\u001b[0m\u001b[1;33m:\u001b[0m\u001b[1;33m\u001b[0m\u001b[0m\n\u001b[1;32m--> 207\u001b[1;33m                 \u001b[0mself\u001b[0m\u001b[1;33m.\u001b[0m\u001b[0m_initialize_parameters\u001b[0m\u001b[1;33m(\u001b[0m\u001b[0mX\u001b[0m\u001b[1;33m,\u001b[0m \u001b[0mrandom_state\u001b[0m\u001b[1;33m)\u001b[0m\u001b[1;33m\u001b[0m\u001b[0m\n\u001b[0m\u001b[0;32m    208\u001b[0m                 \u001b[0mself\u001b[0m\u001b[1;33m.\u001b[0m\u001b[0mlower_bound_\u001b[0m \u001b[1;33m=\u001b[0m \u001b[1;33m-\u001b[0m\u001b[0mnp\u001b[0m\u001b[1;33m.\u001b[0m\u001b[0minfty\u001b[0m\u001b[1;33m\u001b[0m\u001b[0m\n\u001b[0;32m    209\u001b[0m \u001b[1;33m\u001b[0m\u001b[0m\n",
      "\u001b[1;32mC:\\PROGRAM FILES\\Anaconda\\Anaconda3\\lib\\site-packages\\sklearn\\mixture\\base.py\u001b[0m in \u001b[0;36m_initialize_parameters\u001b[1;34m(self, X, random_state)\u001b[0m\n\u001b[0;32m    155\u001b[0m                              % self.init_params)\n\u001b[0;32m    156\u001b[0m \u001b[1;33m\u001b[0m\u001b[0m\n\u001b[1;32m--> 157\u001b[1;33m         \u001b[0mself\u001b[0m\u001b[1;33m.\u001b[0m\u001b[0m_initialize\u001b[0m\u001b[1;33m(\u001b[0m\u001b[0mX\u001b[0m\u001b[1;33m,\u001b[0m \u001b[0mresp\u001b[0m\u001b[1;33m)\u001b[0m\u001b[1;33m\u001b[0m\u001b[0m\n\u001b[0m\u001b[0;32m    158\u001b[0m \u001b[1;33m\u001b[0m\u001b[0m\n\u001b[0;32m    159\u001b[0m     \u001b[1;33m@\u001b[0m\u001b[0mabstractmethod\u001b[0m\u001b[1;33m\u001b[0m\u001b[0m\n",
      "\u001b[1;32mC:\\PROGRAM FILES\\Anaconda\\Anaconda3\\lib\\site-packages\\sklearn\\mixture\\bayesian_mixture.py\u001b[0m in \u001b[0;36m_initialize\u001b[1;34m(self, X, resp)\u001b[0m\n\u001b[0;32m    462\u001b[0m         \u001b[0mself\u001b[0m\u001b[1;33m.\u001b[0m\u001b[0m_estimate_weights\u001b[0m\u001b[1;33m(\u001b[0m\u001b[0mnk\u001b[0m\u001b[1;33m)\u001b[0m\u001b[1;33m\u001b[0m\u001b[0m\n\u001b[0;32m    463\u001b[0m         \u001b[0mself\u001b[0m\u001b[1;33m.\u001b[0m\u001b[0m_estimate_means\u001b[0m\u001b[1;33m(\u001b[0m\u001b[0mnk\u001b[0m\u001b[1;33m,\u001b[0m \u001b[0mxk\u001b[0m\u001b[1;33m)\u001b[0m\u001b[1;33m\u001b[0m\u001b[0m\n\u001b[1;32m--> 464\u001b[1;33m         \u001b[0mself\u001b[0m\u001b[1;33m.\u001b[0m\u001b[0m_estimate_precisions\u001b[0m\u001b[1;33m(\u001b[0m\u001b[0mnk\u001b[0m\u001b[1;33m,\u001b[0m \u001b[0mxk\u001b[0m\u001b[1;33m,\u001b[0m \u001b[0msk\u001b[0m\u001b[1;33m)\u001b[0m\u001b[1;33m\u001b[0m\u001b[0m\n\u001b[0m\u001b[0;32m    465\u001b[0m \u001b[1;33m\u001b[0m\u001b[0m\n\u001b[0;32m    466\u001b[0m     \u001b[1;32mdef\u001b[0m \u001b[0m_estimate_weights\u001b[0m\u001b[1;33m(\u001b[0m\u001b[0mself\u001b[0m\u001b[1;33m,\u001b[0m \u001b[0mnk\u001b[0m\u001b[1;33m)\u001b[0m\u001b[1;33m:\u001b[0m\u001b[1;33m\u001b[0m\u001b[0m\n",
      "\u001b[1;32mC:\\PROGRAM FILES\\Anaconda\\Anaconda3\\lib\\site-packages\\sklearn\\mixture\\bayesian_mixture.py\u001b[0m in \u001b[0;36m_estimate_precisions\u001b[1;34m(self, nk, xk, sk)\u001b[0m\n\u001b[0;32m    519\u001b[0m \u001b[1;33m\u001b[0m\u001b[0m\n\u001b[0;32m    520\u001b[0m         self.precisions_cholesky_ = _compute_precision_cholesky(\n\u001b[1;32m--> 521\u001b[1;33m             self.covariances_, self.covariance_type)\n\u001b[0m\u001b[0;32m    522\u001b[0m \u001b[1;33m\u001b[0m\u001b[0m\n\u001b[0;32m    523\u001b[0m     \u001b[1;32mdef\u001b[0m \u001b[0m_estimate_wishart_full\u001b[0m\u001b[1;33m(\u001b[0m\u001b[0mself\u001b[0m\u001b[1;33m,\u001b[0m \u001b[0mnk\u001b[0m\u001b[1;33m,\u001b[0m \u001b[0mxk\u001b[0m\u001b[1;33m,\u001b[0m \u001b[0msk\u001b[0m\u001b[1;33m)\u001b[0m\u001b[1;33m:\u001b[0m\u001b[1;33m\u001b[0m\u001b[0m\n",
      "\u001b[1;32mC:\\PROGRAM FILES\\Anaconda\\Anaconda3\\lib\\site-packages\\sklearn\\mixture\\gaussian_mixture.py\u001b[0m in \u001b[0;36m_compute_precision_cholesky\u001b[1;34m(covariances, covariance_type)\u001b[0m\n\u001b[0;32m    318\u001b[0m                 \u001b[0mcov_chol\u001b[0m \u001b[1;33m=\u001b[0m \u001b[0mlinalg\u001b[0m\u001b[1;33m.\u001b[0m\u001b[0mcholesky\u001b[0m\u001b[1;33m(\u001b[0m\u001b[0mcovariance\u001b[0m\u001b[1;33m,\u001b[0m \u001b[0mlower\u001b[0m\u001b[1;33m=\u001b[0m\u001b[1;32mTrue\u001b[0m\u001b[1;33m)\u001b[0m\u001b[1;33m\u001b[0m\u001b[0m\n\u001b[0;32m    319\u001b[0m             \u001b[1;32mexcept\u001b[0m \u001b[0mlinalg\u001b[0m\u001b[1;33m.\u001b[0m\u001b[0mLinAlgError\u001b[0m\u001b[1;33m:\u001b[0m\u001b[1;33m\u001b[0m\u001b[0m\n\u001b[1;32m--> 320\u001b[1;33m                 \u001b[1;32mraise\u001b[0m \u001b[0mValueError\u001b[0m\u001b[1;33m(\u001b[0m\u001b[0mestimate_precision_error_message\u001b[0m\u001b[1;33m)\u001b[0m\u001b[1;33m\u001b[0m\u001b[0m\n\u001b[0m\u001b[0;32m    321\u001b[0m             precisions_chol[k] = linalg.solve_triangular(cov_chol,\n\u001b[0;32m    322\u001b[0m                                                          \u001b[0mnp\u001b[0m\u001b[1;33m.\u001b[0m\u001b[0meye\u001b[0m\u001b[1;33m(\u001b[0m\u001b[0mn_features\u001b[0m\u001b[1;33m)\u001b[0m\u001b[1;33m,\u001b[0m\u001b[1;33m\u001b[0m\u001b[0m\n",
      "\u001b[1;31mValueError\u001b[0m: Fitting the mixture model failed because some components have ill-defined empirical covariance (for instance caused by singleton or collapsed samples). Try to decrease the number of components, or increase reg_covar."
     ]
    }
   ],
   "source": [
    "max_num_components = 75\n",
    "bnp = BayesianGaussianMixture(weight_concentration_prior_type=\"dirichlet_process\", n_components=max_num_components,\n",
    "                              reg_covar=0, init_params='random', max_iter=1500, mean_precision_prior=.8,\n",
    "                              random_state=2702)\n",
    "bnp.fit(X_scaled)"
   ]
  },
  {
   "cell_type": "code",
   "execution_count": null,
   "metadata": {
    "collapsed": true
   },
   "outputs": [],
   "source": []
  },
  {
   "cell_type": "code",
   "execution_count": null,
   "metadata": {
    "collapsed": true
   },
   "outputs": [],
   "source": []
  },
  {
   "cell_type": "code",
   "execution_count": null,
   "metadata": {
    "collapsed": true
   },
   "outputs": [],
   "source": []
  },
  {
   "cell_type": "code",
   "execution_count": null,
   "metadata": {
    "collapsed": true
   },
   "outputs": [],
   "source": []
  },
  {
   "cell_type": "code",
   "execution_count": null,
   "metadata": {
    "collapsed": true
   },
   "outputs": [],
   "source": []
  },
  {
   "cell_type": "code",
   "execution_count": 78,
   "metadata": {
    "collapsed": true
   },
   "outputs": [],
   "source": [
    "from collections import Counter\n",
    "import random\n",
    "from sklearn import cluster, metrics\n",
    "%matplotlib inline"
   ]
  },
  {
   "cell_type": "code",
   "execution_count": 83,
   "metadata": {},
   "outputs": [
    {
     "data": {
      "image/png": "[encoded data removed]",
      "text/plain": [
       "<matplotlib.figure.Figure at 0x26b41702c50>"
      ]
     },
     "metadata": {},
     "output_type": "display_data"
    }
   ],
   "source": [
    "# calculate SC for K=2 through K=50\n",
    "k_range = range(2, 50)\n",
    "scores = []\n",
    "for k in k_range:\n",
    "    km = cluster.KMeans(n_clusters=k, random_state=12)\n",
    "    km.fit(x_reg)\n",
    "    scores.append(metrics.silhouette_score(x_reg, km.labels_))\n",
    "\n",
    "# plot the results\n",
    "plt.plot(k_range, scores)\n",
    "plt.xlabel('Number of clusters')\n",
    "plt.ylabel('Silhouette Coefficient')\n",
    "plt.title('Optimal # of clusters - KMeans')\n",
    "plt.grid(True)"
   ]
  },
  {
   "cell_type": "code",
   "execution_count": 82,
   "metadata": {},
   "outputs": [
    {
     "data": {
      "image/png": "[encoded data removed]",
      "text/plain": [
       "<matplotlib.figure.Figure at 0x26b42c1a0f0>"
      ]
     },
     "metadata": {},
     "output_type": "display_data"
    }
   ],
   "source": [
    "from sklearn.cluster import KMeans\n",
    "import pylab as pl\n",
    "Nc = range(1, 30)\n",
    "kmeans = [KMeans(n_clusters=i) for i in Nc]\n",
    "kmeans\n",
    "score = [kmeans[i].fit(x_reg).score(x_reg) for i in range(len(kmeans))]\n",
    "score\n",
    "pl.plot(Nc,score)\n",
    "pl.xlabel('Number of Clusters')\n",
    "pl.ylabel('Distortion generated from the cost function')\n",
    "pl.title('Elbow Method - KMeans')\n",
    "pl.show()"
   ]
  },
  {
   "cell_type": "markdown",
   "metadata": {},
   "source": [
    "## Component reduction via PCA"
   ]
  },
  {
   "cell_type": "code",
   "execution_count": 88,
   "metadata": {},
   "outputs": [],
   "source": [
    "from sklearn.decomposition import PCA\n",
    "from scipy import stats\n",
    "\n",
    "pca = PCA(n_components=16)\n",
    "Y_sklearn = pca.fit_transform(X_scaled)"
   ]
  },
  {
   "cell_type": "code",
   "execution_count": 89,
   "metadata": {},
   "outputs": [
    {
     "data": {
      "text/plain": [
       "BayesianGaussianMixture(covariance_prior=None, covariance_type='full',\n",
       "            degrees_of_freedom_prior=None, init_params='random',\n",
       "            max_iter=1500, mean_precision_prior=0.8, mean_prior=None,\n",
       "            n_components=75, n_init=1, random_state=2702, reg_covar=0,\n",
       "            tol=0.001, verbose=0, verbose_interval=10, warm_start=False,\n",
       "            weight_concentration_prior=None,\n",
       "            weight_concentration_prior_type='dirichlet_process')"
      ]
     },
     "execution_count": 89,
     "metadata": {},
     "output_type": "execute_result"
    }
   ],
   "source": [
    "max_num_components = 75\n",
    "bnp = BayesianGaussianMixture(weight_concentration_prior_type=\"dirichlet_process\", n_components=max_num_components,\n",
    "                              reg_covar=0, init_params='random', max_iter=1500, mean_precision_prior=.8,\n",
    "                              random_state=2702)\n",
    "bnp.fit(Y_sklearn)"
   ]
  },
  {
   "cell_type": "code",
   "execution_count": 90,
   "metadata": {
    "collapsed": true
   },
   "outputs": [],
   "source": [
    "cluster_ids=bnp.predict(Y_sklearn)\n",
    "df['cluster']=cluster_ids"
   ]
  },
  {
   "cell_type": "code",
   "execution_count": 91,
   "metadata": {},
   "outputs": [
    {
     "data": {
      "text/html": [
       "<div>\n",
       "<style>\n",
       "    .dataframe thead tr:only-child th {\n",
       "        text-align: right;\n",
       "    }\n",
       "\n",
       "    .dataframe thead th {\n",
       "        text-align: left;\n",
       "    }\n",
       "\n",
       "    .dataframe tbody tr th {\n",
       "        vertical-align: top;\n",
       "    }\n",
       "</style>\n",
       "<table border=\"1\" class=\"dataframe\">\n",
       "  <thead>\n",
       "    <tr style=\"text-align: right;\">\n",
       "      <th></th>\n",
       "      <th>country_name</th>\n",
       "      <th>country_code</th>\n",
       "      <th>country_iso_3_code</th>\n",
       "      <th>code</th>\n",
       "      <th>region</th>\n",
       "      <th>arrangement_type</th>\n",
       "      <th>year</th>\n",
       "      <th>bca_gdp_bp6</th>\n",
       "      <th>bfd_gdp_bp6</th>\n",
       "      <th>d_gdp</th>\n",
       "      <th>...</th>\n",
       "      <th>precautionary</th>\n",
       "      <th>prg_length</th>\n",
       "      <th>eff</th>\n",
       "      <th>sba</th>\n",
       "      <th>pll</th>\n",
       "      <th>ecf</th>\n",
       "      <th>esf</th>\n",
       "      <th>scf</th>\n",
       "      <th>blend</th>\n",
       "      <th>cluster</th>\n",
       "    </tr>\n",
       "  </thead>\n",
       "  <tbody>\n",
       "    <tr>\n",
       "      <th>0</th>\n",
       "      <td>Greece</td>\n",
       "      <td>174</td>\n",
       "      <td>GRC</td>\n",
       "      <td>1742010</td>\n",
       "      <td>EUR</td>\n",
       "      <td>SBA</td>\n",
       "      <td>2010</td>\n",
       "      <td>-11.384279</td>\n",
       "      <td>0.410121</td>\n",
       "      <td>184.71552</td>\n",
       "      <td>...</td>\n",
       "      <td>0</td>\n",
       "      <td>2</td>\n",
       "      <td>0</td>\n",
       "      <td>1</td>\n",
       "      <td>0</td>\n",
       "      <td>0</td>\n",
       "      <td>0</td>\n",
       "      <td>0</td>\n",
       "      <td>0</td>\n",
       "      <td>54</td>\n",
       "    </tr>\n",
       "    <tr>\n",
       "      <th>1</th>\n",
       "      <td>Greece</td>\n",
       "      <td>174</td>\n",
       "      <td>GRC</td>\n",
       "      <td>1742012</td>\n",
       "      <td>EUR</td>\n",
       "      <td>EFF</td>\n",
       "      <td>2012</td>\n",
       "      <td>-3.831144</td>\n",
       "      <td>-0.432627</td>\n",
       "      <td>241.83867</td>\n",
       "      <td>...</td>\n",
       "      <td>0</td>\n",
       "      <td>4</td>\n",
       "      <td>1</td>\n",
       "      <td>1</td>\n",
       "      <td>0</td>\n",
       "      <td>0</td>\n",
       "      <td>0</td>\n",
       "      <td>0</td>\n",
       "      <td>0</td>\n",
       "      <td>54</td>\n",
       "    </tr>\n",
       "    <tr>\n",
       "      <th>2</th>\n",
       "      <td>Iceland</td>\n",
       "      <td>176</td>\n",
       "      <td>ISL</td>\n",
       "      <td>1762008</td>\n",
       "      <td>EUR</td>\n",
       "      <td>SBA</td>\n",
       "      <td>2008</td>\n",
       "      <td>-22.599819</td>\n",
       "      <td>-29.030277</td>\n",
       "      <td>179.86908</td>\n",
       "      <td>...</td>\n",
       "      <td>0</td>\n",
       "      <td>3</td>\n",
       "      <td>0</td>\n",
       "      <td>1</td>\n",
       "      <td>0</td>\n",
       "      <td>0</td>\n",
       "      <td>0</td>\n",
       "      <td>0</td>\n",
       "      <td>0</td>\n",
       "      <td>59</td>\n",
       "    </tr>\n",
       "    <tr>\n",
       "      <th>3</th>\n",
       "      <td>Ireland</td>\n",
       "      <td>178</td>\n",
       "      <td>IRL</td>\n",
       "      <td>1782010</td>\n",
       "      <td>EUR</td>\n",
       "      <td>EFF</td>\n",
       "      <td>2010</td>\n",
       "      <td>-1.197674</td>\n",
       "      <td>-9.715908</td>\n",
       "      <td>1039.38540</td>\n",
       "      <td>...</td>\n",
       "      <td>0</td>\n",
       "      <td>3</td>\n",
       "      <td>1</td>\n",
       "      <td>0</td>\n",
       "      <td>0</td>\n",
       "      <td>0</td>\n",
       "      <td>0</td>\n",
       "      <td>0</td>\n",
       "      <td>0</td>\n",
       "      <td>70</td>\n",
       "    </tr>\n",
       "    <tr>\n",
       "      <th>4</th>\n",
       "      <td>Portugal</td>\n",
       "      <td>182</td>\n",
       "      <td>PRT</td>\n",
       "      <td>1822011</td>\n",
       "      <td>EUR</td>\n",
       "      <td>EFF</td>\n",
       "      <td>2011</td>\n",
       "      <td>-6.001705</td>\n",
       "      <td>2.453360</td>\n",
       "      <td>207.26927</td>\n",
       "      <td>...</td>\n",
       "      <td>0</td>\n",
       "      <td>3</td>\n",
       "      <td>1</td>\n",
       "      <td>0</td>\n",
       "      <td>0</td>\n",
       "      <td>0</td>\n",
       "      <td>0</td>\n",
       "      <td>0</td>\n",
       "      <td>0</td>\n",
       "      <td>54</td>\n",
       "    </tr>\n",
       "  </tbody>\n",
       "</table>\n",
       "<p>5 rows × 38 columns</p>\n",
       "</div>"
      ],
      "text/plain": [
       "  country_name  country_code country_iso_3_code     code region  \\\n",
       "0       Greece           174                GRC  1742010    EUR   \n",
       "1       Greece           174                GRC  1742012    EUR   \n",
       "2      Iceland           176                ISL  1762008    EUR   \n",
       "3      Ireland           178                IRL  1782010    EUR   \n",
       "4     Portugal           182                PRT  1822011    EUR   \n",
       "\n",
       "  arrangement_type  year  bca_gdp_bp6  bfd_gdp_bp6       d_gdp   ...     \\\n",
       "0              SBA  2010   -11.384279     0.410121   184.71552   ...      \n",
       "1              EFF  2012    -3.831144    -0.432627   241.83867   ...      \n",
       "2              SBA  2008   -22.599819   -29.030277   179.86908   ...      \n",
       "3              EFF  2010    -1.197674    -9.715908  1039.38540   ...      \n",
       "4              EFF  2011    -6.001705     2.453360   207.26927   ...      \n",
       "\n",
       "   precautionary  prg_length  eff  sba  pll  ecf  esf  scf  blend  cluster  \n",
       "0              0           2    0    1    0    0    0    0      0       54  \n",
       "1              0           4    1    1    0    0    0    0      0       54  \n",
       "2              0           3    0    1    0    0    0    0      0       59  \n",
       "3              0           3    1    0    0    0    0    0      0       70  \n",
       "4              0           3    1    0    0    0    0    0      0       54  \n",
       "\n",
       "[5 rows x 38 columns]"
      ]
     },
     "execution_count": 91,
     "metadata": {},
     "output_type": "execute_result"
    }
   ],
   "source": [
    "df.head()"
   ]
  },
  {
   "cell_type": "code",
   "execution_count": 93,
   "metadata": {
    "scrolled": true
   },
   "outputs": [],
   "source": [
    "writer = pd.ExcelWriter('Test.xlsx', engine='xlsxwriter')\n",
    "df.to_excel(writer, sheet_name='GMM')\n",
    "writer.save()"
   ]
  },
  {
   "cell_type": "code",
   "execution_count": null,
   "metadata": {},
   "outputs": [],
   "source": []
  },
  {
   "cell_type": "code",
   "execution_count": null,
   "metadata": {
    "collapsed": true
   },
   "outputs": [],
   "source": []
  },
  {
   "cell_type": "markdown",
   "metadata": {
    "collapsed": true
   },
   "source": []
  },
  {
   "cell_type": "code",
   "execution_count": 367,
   "metadata": {
    "collapsed": true
   },
   "outputs": [],
   "source": []
  },
  {
   "cell_type": "markdown",
   "metadata": {},
   "source": []
  },
  {
   "cell_type": "code",
   "execution_count": null,
   "metadata": {
    "scrolled": true
   },
   "outputs": [],
   "source": []
  },
  {
   "cell_type": "code",
   "execution_count": null,
   "metadata": {},
   "outputs": [],
   "source": []
  },
  {
   "cell_type": "markdown",
   "metadata": {},
   "source": []
  },
  {
   "cell_type": "code",
   "execution_count": null,
   "metadata": {},
   "outputs": [],
   "source": []
  },
  {
   "cell_type": "markdown",
   "metadata": {
    "collapsed": true
   },
   "source": []
  },
  {
   "cell_type": "code",
   "execution_count": null,
   "metadata": {},
   "outputs": [],
   "source": []
  },
  {
   "cell_type": "markdown",
   "metadata": {},
   "source": []
  },
  {
   "cell_type": "markdown",
   "metadata": {},
   "source": []
  },
  {
   "cell_type": "code",
   "execution_count": null,
   "metadata": {},
   "outputs": [],
   "source": []
  },
  {
   "cell_type": "code",
   "execution_count": null,
   "metadata": {},
   "outputs": [],
   "source": []
  },
  {
   "cell_type": "markdown",
   "metadata": {},
   "source": []
  },
  {
   "cell_type": "code",
   "execution_count": null,
   "metadata": {},
   "outputs": [],
   "source": []
  },
  {
   "cell_type": "code",
   "execution_count": null,
   "metadata": {
    "collapsed": true
   },
   "outputs": [],
   "source": []
  },
  {
   "cell_type": "code",
   "execution_count": null,
   "metadata": {},
   "outputs": [],
   "source": []
  },
  {
   "cell_type": "code",
   "execution_count": null,
   "metadata": {},
   "outputs": [],
   "source": []
  },
  {
   "cell_type": "code",
   "execution_count": null,
   "metadata": {},
   "outputs": [],
   "source": []
  },
  {
   "cell_type": "markdown",
   "metadata": {},
   "source": []
  },
  {
   "cell_type": "code",
   "execution_count": null,
   "metadata": {},
   "outputs": [],
   "source": []
  },
  {
   "cell_type": "code",
   "execution_count": 380,
   "metadata": {
    "collapsed": true
   },
   "outputs": [],
   "source": []
  },
  {
   "cell_type": "markdown",
   "metadata": {},
   "source": []
  },
  {
   "cell_type": "code",
   "execution_count": 381,
   "metadata": {
    "collapsed": true
   },
   "outputs": [],
   "source": []
  },
  {
   "cell_type": "code",
   "execution_count": null,
   "metadata": {},
   "outputs": [],
   "source": []
  },
  {
   "cell_type": "markdown",
   "metadata": {},
   "source": []
  },
  {
   "cell_type": "code",
   "execution_count": null,
   "metadata": {},
   "outputs": [],
   "source": []
  },
  {
   "cell_type": "markdown",
   "metadata": {},
   "source": []
  },
  {
   "cell_type": "code",
   "execution_count": null,
   "metadata": {},
   "outputs": [],
   "source": []
  },
  {
   "cell_type": "code",
   "execution_count": null,
   "metadata": {},
   "outputs": [],
   "source": []
  },
  {
   "cell_type": "markdown",
   "metadata": {},
   "source": []
  },
  {
   "cell_type": "code",
   "execution_count": null,
   "metadata": {
    "collapsed": true
   },
   "outputs": [],
   "source": []
  },
  {
   "cell_type": "code",
   "execution_count": null,
   "metadata": {
    "collapsed": true
   },
   "outputs": [],
   "source": []
  },
  {
   "cell_type": "code",
   "execution_count": null,
   "metadata": {
    "collapsed": true
   },
   "outputs": [],
   "source": []
  },
  {
   "cell_type": "code",
   "execution_count": null,
   "metadata": {
    "collapsed": true
   },
   "outputs": [],
   "source": []
  },
  {
   "cell_type": "code",
   "execution_count": null,
   "metadata": {
    "collapsed": true
   },
   "outputs": [],
   "source": []
  }
 ],
 "metadata": {
  "kernelspec": {
   "display_name": "Python 3",
   "language": "python",
   "name": "python3"
  },
  "language_info": {
   "codemirror_mode": {
    "name": "ipython",
    "version": 3
   },
   "file_extension": ".py",
   "mimetype": "text/x-python",
   "name": "python",
   "nbconvert_exporter": "python",
   "pygments_lexer": "ipython3",
   "version": "3.5.3"
  }
 },
 "nbformat": 4,
 "nbformat_minor": 2
}
