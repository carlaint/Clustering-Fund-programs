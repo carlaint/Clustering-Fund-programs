{
 "cells": [
  {
   "cell_type": "markdown",
   "metadata": {},
   "source": [
    "# A simple clustering exercise of Fund Programs"
   ]
  },
  {
   "cell_type": "code",
   "execution_count": 363,
   "metadata": {
    "collapsed": true
   },
   "outputs": [],
   "source": [
    "import pandas as pd\n",
    "import numpy as np\n",
    "import matplotlib.pyplot as plt\n",
    "import seaborn as sns\n",
    "\n",
    "xls=pd.ExcelFile('Cluster Fund Programs.xlsx')\n",
    "df=pd.read_excel(xls,'Program countries complete')"
   ]
  },
  {
   "cell_type": "code",
   "execution_count": 364,
   "metadata": {
    "scrolled": true
   },
   "outputs": [
    {
     "data": {
      "text/html": [
       "<div>\n",
       "<style>\n",
       "    .dataframe thead tr:only-child th {\n",
       "        text-align: right;\n",
       "    }\n",
       "\n",
       "    .dataframe thead th {\n",
       "        text-align: left;\n",
       "    }\n",
       "\n",
       "    .dataframe tbody tr th {\n",
       "        vertical-align: top;\n",
       "    }\n",
       "</style>\n",
       "<table border=\"1\" class=\"dataframe\">\n",
       "  <thead>\n",
       "    <tr style=\"text-align: right;\">\n",
       "      <th></th>\n",
       "      <th>country_name</th>\n",
       "      <th>country_code</th>\n",
       "      <th>country_iso_3_code</th>\n",
       "      <th>code</th>\n",
       "      <th>region</th>\n",
       "      <th>arrangement_type</th>\n",
       "      <th>year</th>\n",
       "      <th>bca_gdp_bp6</th>\n",
       "      <th>bfd_gdp_bp6</th>\n",
       "      <th>d_gdp</th>\n",
       "      <th>...</th>\n",
       "      <th>trade_openness</th>\n",
       "      <th>fragile</th>\n",
       "      <th>prg_length</th>\n",
       "      <th>eff</th>\n",
       "      <th>sba</th>\n",
       "      <th>pll</th>\n",
       "      <th>ecf</th>\n",
       "      <th>esf</th>\n",
       "      <th>scf</th>\n",
       "      <th>blend</th>\n",
       "    </tr>\n",
       "  </thead>\n",
       "  <tbody>\n",
       "    <tr>\n",
       "      <th>0</th>\n",
       "      <td>Greece</td>\n",
       "      <td>174</td>\n",
       "      <td>GRC</td>\n",
       "      <td>1742010</td>\n",
       "      <td>EUR</td>\n",
       "      <td>SBA</td>\n",
       "      <td>2010</td>\n",
       "      <td>-11.384279</td>\n",
       "      <td>0.410121</td>\n",
       "      <td>184.71552</td>\n",
       "      <td>...</td>\n",
       "      <td>0.461573</td>\n",
       "      <td>0</td>\n",
       "      <td>2</td>\n",
       "      <td>0</td>\n",
       "      <td>1</td>\n",
       "      <td>0</td>\n",
       "      <td>0</td>\n",
       "      <td>0</td>\n",
       "      <td>0</td>\n",
       "      <td>0</td>\n",
       "    </tr>\n",
       "    <tr>\n",
       "      <th>1</th>\n",
       "      <td>Greece</td>\n",
       "      <td>174</td>\n",
       "      <td>GRC</td>\n",
       "      <td>1742012</td>\n",
       "      <td>EUR</td>\n",
       "      <td>EFF</td>\n",
       "      <td>2012</td>\n",
       "      <td>-3.831144</td>\n",
       "      <td>-0.432627</td>\n",
       "      <td>241.83867</td>\n",
       "      <td>...</td>\n",
       "      <td>0.552324</td>\n",
       "      <td>0</td>\n",
       "      <td>4</td>\n",
       "      <td>1</td>\n",
       "      <td>1</td>\n",
       "      <td>0</td>\n",
       "      <td>0</td>\n",
       "      <td>0</td>\n",
       "      <td>0</td>\n",
       "      <td>0</td>\n",
       "    </tr>\n",
       "    <tr>\n",
       "      <th>2</th>\n",
       "      <td>Iceland</td>\n",
       "      <td>176</td>\n",
       "      <td>ISL</td>\n",
       "      <td>1762008</td>\n",
       "      <td>EUR</td>\n",
       "      <td>SBA</td>\n",
       "      <td>2008</td>\n",
       "      <td>-22.599819</td>\n",
       "      <td>-29.030277</td>\n",
       "      <td>179.86908</td>\n",
       "      <td>...</td>\n",
       "      <td>1.261656</td>\n",
       "      <td>0</td>\n",
       "      <td>3</td>\n",
       "      <td>0</td>\n",
       "      <td>1</td>\n",
       "      <td>0</td>\n",
       "      <td>0</td>\n",
       "      <td>0</td>\n",
       "      <td>0</td>\n",
       "      <td>0</td>\n",
       "    </tr>\n",
       "    <tr>\n",
       "      <th>3</th>\n",
       "      <td>Ireland</td>\n",
       "      <td>178</td>\n",
       "      <td>IRL</td>\n",
       "      <td>1782010</td>\n",
       "      <td>EUR</td>\n",
       "      <td>EFF</td>\n",
       "      <td>2010</td>\n",
       "      <td>-1.197674</td>\n",
       "      <td>-9.715908</td>\n",
       "      <td>1039.38540</td>\n",
       "      <td>...</td>\n",
       "      <td>1.158331</td>\n",
       "      <td>0</td>\n",
       "      <td>3</td>\n",
       "      <td>1</td>\n",
       "      <td>0</td>\n",
       "      <td>0</td>\n",
       "      <td>0</td>\n",
       "      <td>0</td>\n",
       "      <td>0</td>\n",
       "      <td>0</td>\n",
       "    </tr>\n",
       "    <tr>\n",
       "      <th>4</th>\n",
       "      <td>Portugal</td>\n",
       "      <td>182</td>\n",
       "      <td>PRT</td>\n",
       "      <td>1822011</td>\n",
       "      <td>EUR</td>\n",
       "      <td>EFF</td>\n",
       "      <td>2011</td>\n",
       "      <td>-6.001705</td>\n",
       "      <td>2.453360</td>\n",
       "      <td>207.26927</td>\n",
       "      <td>...</td>\n",
       "      <td>0.760186</td>\n",
       "      <td>0</td>\n",
       "      <td>3</td>\n",
       "      <td>1</td>\n",
       "      <td>0</td>\n",
       "      <td>0</td>\n",
       "      <td>0</td>\n",
       "      <td>0</td>\n",
       "      <td>0</td>\n",
       "      <td>0</td>\n",
       "    </tr>\n",
       "  </tbody>\n",
       "</table>\n",
       "<p>5 rows × 38 columns</p>\n",
       "</div>"
      ],
      "text/plain": [
       "  country_name  country_code country_iso_3_code     code region  \\\n",
       "0       Greece           174                GRC  1742010    EUR   \n",
       "1       Greece           174                GRC  1742012    EUR   \n",
       "2      Iceland           176                ISL  1762008    EUR   \n",
       "3      Ireland           178                IRL  1782010    EUR   \n",
       "4     Portugal           182                PRT  1822011    EUR   \n",
       "\n",
       "  arrangement_type  year  bca_gdp_bp6  bfd_gdp_bp6       d_gdp  ...    \\\n",
       "0              SBA  2010   -11.384279     0.410121   184.71552  ...     \n",
       "1              EFF  2012    -3.831144    -0.432627   241.83867  ...     \n",
       "2              SBA  2008   -22.599819   -29.030277   179.86908  ...     \n",
       "3              EFF  2010    -1.197674    -9.715908  1039.38540  ...     \n",
       "4              EFF  2011    -6.001705     2.453360   207.26927  ...     \n",
       "\n",
       "   trade_openness  fragile  prg_length  eff  sba  pll  ecf  esf  scf  blend  \n",
       "0        0.461573        0           2    0    1    0    0    0    0      0  \n",
       "1        0.552324        0           4    1    1    0    0    0    0      0  \n",
       "2        1.261656        0           3    0    1    0    0    0    0      0  \n",
       "3        1.158331        0           3    1    0    0    0    0    0      0  \n",
       "4        0.760186        0           3    1    0    0    0    0    0      0  \n",
       "\n",
       "[5 rows x 38 columns]"
      ]
     },
     "execution_count": 364,
     "metadata": {},
     "output_type": "execute_result"
    }
   ],
   "source": [
    "df.head(5)"
   ]
  },
  {
   "cell_type": "code",
   "execution_count": 365,
   "metadata": {},
   "outputs": [
    {
     "data": {
      "text/plain": [
       "(177, 38)"
      ]
     },
     "execution_count": 365,
     "metadata": {},
     "output_type": "execute_result"
    }
   ],
   "source": [
    "#matrix size\n",
    "df.shape"
   ]
  },
  {
   "cell_type": "markdown",
   "metadata": {},
   "source": [
    "## Metadata from STATA\n",
    "\n",
    "    Contains data from C:\\Users\\CIntal\\OTmp\\master_comparator_data.dta\n",
    "    obs:         8,299                         \n",
    "    vars:            39                          20 Feb 2018 20:27\n",
    "    size:     2,373,514                         \n",
    "    ---------------------------------------------------------------------------------------------------------------\n",
    "                  storage   display    value\n",
    "    variable name   type    format     label      variable label\n",
    "    --------------------------------------------------------------------------------------------------------------\n",
    "    country_name    str130  %130s                 Country.Name\n",
    "    country_code    int     %10.0g                Country.Code\n",
    "    country_iso_3~e str3    %9s                   Country.ISO-3 code\n",
    "    year            float   %9.0g                 year\n",
    "    bca_gdp_bp6     float   %8.0g                 Balance on goods and services, percent of GDP in U.S. dollars\n",
    "    bfd_gdp_bp6     float   %8.0g                 Direct investment, (BPM6), percent of GDP in U.S. dollars\n",
    "    d_gdp           float   %8.0g                 Total external debt, gross, percent of GDP in U.S. dollars\n",
    "    ggxcnl_gdp      float   %8.0g                 General govt net lending/borrowing, national currency, percent\n",
    "                                                    of fiscal year GDP\n",
    "    ggxofb_gdp      float   %8.0g                 General government overall fiscal balance, percent of Fiscal\n",
    "                                                    year GDP\n",
    "    ggxwdg_gdp      float   %8.0g                 General government gross debt, percent of Fiscal year GDP\n",
    "    iar_gdp_bp6     float   %8.0g                 Reserve Assets (Inc. reserve position in the Fund and SDR \n",
    "                                                    holdings), percent of GDP in U.S. dollars\n",
    "    ngdpd           float   %8.0g                 Gross domestic product, current prices in U.S. dollars\n",
    "    ngdpdpc         float   %8.0g                 Gross domestic product per capita, current prices in U.S. dollars\n",
    "    ngdp_rpch       float   %8.0g                 GDP, constant prices in national currency, percent change\n",
    "    pcpie_pch       float   %8.0g                 Consumer Prices, end-of-period, percent change\n",
    "    PRGT            int     %10.0g                Dummy\n",
    "    gra_credit      double  %10.0g                GRA Credit Outstanding\n",
    "    prgt_credit     long    %10.0g                PRGT Credit Outstanding\n",
    "    quota           double  %10.0g                Quota\n",
    "    arrangement_t~e str16   %16s                  Arrangement Type\n",
    "    exceptional_a~s byte    %10.0g                Exceptional Access\n",
    "    precautionary   byte    %10.0g                Precautionary (Using MONA)\n",
    "    actual_expiry   int     %10.0g                Actual Expiry Year\n",
    "    post2011        float   %9.0g                \n",
    "    region          str6    %9s                   Region\n",
    "    small_state     byte    %10.0g                Small State\n",
    "    fuel_exporter   byte    %10.0g                Fuel Exporter\n",
    "    exchange_rate   float   %9.0g                \n",
    "    trade_openness  float   %9.0g                \n",
    "    fragile         byte    %10.0g               \n",
    "    iip             double  %10.0g               \n",
    "    prg_length      float   %9.0g                 Program Length\n",
    "    eff             float   %9.0g                \n",
    "    sba             float   %9.0g                \n",
    "    pll             float   %9.0g                \n",
    "    ecf             float   %9.0g                \n",
    "    esf             float   %9.0g                \n",
    "    scf             float   %9.0g                \n",
    "    blend           float   %9.0g    \n",
    "    DCP             float   %9.0g                 Domestic Credit to the Private Sector (% of GDP)\n",
    "\n",
    "    ICRG variables added:\n",
    "    Bureaucracy Quality (L)\n",
    "    Corruption (F)\n",
    "    Democratic Accountability (K)\n",
    "    Ethnic Tensions (J)\n",
    "    External Conflict (E)\n",
    "    Government Stability (A)\n",
    "    Internal Conflict (D)\n",
    "    Investment Profile (C)\n",
    "    Law & Order (I)\n",
    "    Military in Politics (G)\n",
    "    Religious Tensions (H)\n",
    "    Socioeconomic Conditions (B)\n",
    "\n",
    "    --------------------------------------------------------------------------------------------------------------\n",
    "\n",
    "    Sorted by: country_code  year"
   ]
  },
  {
   "cell_type": "markdown",
   "metadata": {},
   "source": [
    "## To do list:\n",
    "1) Regularize  \n",
    "2) Straightforward clustering    \n",
    "3) Dimensionality reduction - PCA  \n",
    "4) Try LASSO on a poission regression  (predicting program membership)"
   ]
  },
  {
   "cell_type": "markdown",
   "metadata": {},
   "source": [
    "#### Regularization"
   ]
  },
  {
   "cell_type": "code",
   "execution_count": 366,
   "metadata": {
    "scrolled": true
   },
   "outputs": [
    {
     "data": {
      "text/html": [
       "<div>\n",
       "<style>\n",
       "    .dataframe thead tr:only-child th {\n",
       "        text-align: right;\n",
       "    }\n",
       "\n",
       "    .dataframe thead th {\n",
       "        text-align: left;\n",
       "    }\n",
       "\n",
       "    .dataframe tbody tr th {\n",
       "        vertical-align: top;\n",
       "    }\n",
       "</style>\n",
       "<table border=\"1\" class=\"dataframe\">\n",
       "  <thead>\n",
       "    <tr style=\"text-align: right;\">\n",
       "      <th></th>\n",
       "      <th>0</th>\n",
       "      <th>1</th>\n",
       "      <th>2</th>\n",
       "      <th>3</th>\n",
       "      <th>4</th>\n",
       "      <th>5</th>\n",
       "      <th>6</th>\n",
       "      <th>7</th>\n",
       "      <th>8</th>\n",
       "      <th>9</th>\n",
       "      <th>...</th>\n",
       "      <th>22</th>\n",
       "      <th>23</th>\n",
       "      <th>24</th>\n",
       "      <th>25</th>\n",
       "      <th>26</th>\n",
       "      <th>27</th>\n",
       "      <th>28</th>\n",
       "      <th>29</th>\n",
       "      <th>30</th>\n",
       "      <th>31</th>\n",
       "    </tr>\n",
       "  </thead>\n",
       "  <tbody>\n",
       "    <tr>\n",
       "      <th>0</th>\n",
       "      <td>-0.069220</td>\n",
       "      <td>-0.475464</td>\n",
       "      <td>0.974506</td>\n",
       "      <td>1.239401</td>\n",
       "      <td>-1.567582</td>\n",
       "      <td>2.109970</td>\n",
       "      <td>-1.403574</td>\n",
       "      <td>3.273165</td>\n",
       "      <td>3.348084</td>\n",
       "      <td>-1.918951</td>\n",
       "      <td>...</td>\n",
       "      <td>-0.282315</td>\n",
       "      <td>-0.460791</td>\n",
       "      <td>-0.693703</td>\n",
       "      <td>-0.396059</td>\n",
       "      <td>1.064204</td>\n",
       "      <td>-0.131306</td>\n",
       "      <td>-0.828079</td>\n",
       "      <td>-0.075378</td>\n",
       "      <td>-0.26968</td>\n",
       "      <td>-0.244704</td>\n",
       "    </tr>\n",
       "    <tr>\n",
       "      <th>1</th>\n",
       "      <td>0.420855</td>\n",
       "      <td>0.354267</td>\n",
       "      <td>0.822600</td>\n",
       "      <td>1.841674</td>\n",
       "      <td>-0.685492</td>\n",
       "      <td>2.428987</td>\n",
       "      <td>-1.322931</td>\n",
       "      <td>2.579774</td>\n",
       "      <td>2.643713</td>\n",
       "      <td>-2.329907</td>\n",
       "      <td>...</td>\n",
       "      <td>0.022864</td>\n",
       "      <td>-0.460791</td>\n",
       "      <td>1.423288</td>\n",
       "      <td>2.524876</td>\n",
       "      <td>1.064204</td>\n",
       "      <td>-0.131306</td>\n",
       "      <td>-0.828079</td>\n",
       "      <td>-0.075378</td>\n",
       "      <td>-0.26968</td>\n",
       "      <td>-0.244704</td>\n",
       "    </tr>\n",
       "    <tr>\n",
       "      <th>2</th>\n",
       "      <td>-0.559294</td>\n",
       "      <td>-1.707519</td>\n",
       "      <td>-4.332155</td>\n",
       "      <td>1.188302</td>\n",
       "      <td>-1.917889</td>\n",
       "      <td>0.215903</td>\n",
       "      <td>0.299452</td>\n",
       "      <td>-0.343698</td>\n",
       "      <td>7.502872</td>\n",
       "      <td>-0.309169</td>\n",
       "      <td>...</td>\n",
       "      <td>2.408233</td>\n",
       "      <td>-0.460791</td>\n",
       "      <td>0.364792</td>\n",
       "      <td>-0.396059</td>\n",
       "      <td>1.064204</td>\n",
       "      <td>-0.131306</td>\n",
       "      <td>-0.828079</td>\n",
       "      <td>-0.075378</td>\n",
       "      <td>-0.26968</td>\n",
       "      <td>-0.244704</td>\n",
       "    </tr>\n",
       "    <tr>\n",
       "      <th>3</th>\n",
       "      <td>-0.069220</td>\n",
       "      <td>0.643561</td>\n",
       "      <td>-0.850720</td>\n",
       "      <td>10.250546</td>\n",
       "      <td>-5.554165</td>\n",
       "      <td>0.670543</td>\n",
       "      <td>-1.516457</td>\n",
       "      <td>2.278966</td>\n",
       "      <td>6.531677</td>\n",
       "      <td>-0.286216</td>\n",
       "      <td>...</td>\n",
       "      <td>2.060769</td>\n",
       "      <td>-0.460791</td>\n",
       "      <td>0.364792</td>\n",
       "      <td>2.524876</td>\n",
       "      <td>-0.939669</td>\n",
       "      <td>-0.131306</td>\n",
       "      <td>-0.828079</td>\n",
       "      <td>-0.075378</td>\n",
       "      <td>-0.26968</td>\n",
       "      <td>-0.244704</td>\n",
       "    </tr>\n",
       "    <tr>\n",
       "      <th>4</th>\n",
       "      <td>0.175818</td>\n",
       "      <td>0.115826</td>\n",
       "      <td>1.342802</td>\n",
       "      <td>1.477194</td>\n",
       "      <td>-0.838561</td>\n",
       "      <td>1.276076</td>\n",
       "      <td>-0.698673</td>\n",
       "      <td>2.570968</td>\n",
       "      <td>2.797095</td>\n",
       "      <td>-1.095366</td>\n",
       "      <td>...</td>\n",
       "      <td>0.721871</td>\n",
       "      <td>-0.460791</td>\n",
       "      <td>0.364792</td>\n",
       "      <td>2.524876</td>\n",
       "      <td>-0.939669</td>\n",
       "      <td>-0.131306</td>\n",
       "      <td>-0.828079</td>\n",
       "      <td>-0.075378</td>\n",
       "      <td>-0.26968</td>\n",
       "      <td>-0.244704</td>\n",
       "    </tr>\n",
       "  </tbody>\n",
       "</table>\n",
       "<p>5 rows × 32 columns</p>\n",
       "</div>"
      ],
      "text/plain": [
       "         0         1         2          3         4         5         6   \\\n",
       "0 -0.069220 -0.475464  0.974506   1.239401 -1.567582  2.109970 -1.403574   \n",
       "1  0.420855  0.354267  0.822600   1.841674 -0.685492  2.428987 -1.322931   \n",
       "2 -0.559294 -1.707519 -4.332155   1.188302 -1.917889  0.215903  0.299452   \n",
       "3 -0.069220  0.643561 -0.850720  10.250546 -5.554165  0.670543 -1.516457   \n",
       "4  0.175818  0.115826  1.342802   1.477194 -0.838561  1.276076 -0.698673   \n",
       "\n",
       "         7         8         9     ...           22        23        24  \\\n",
       "0  3.273165  3.348084 -1.918951    ...    -0.282315 -0.460791 -0.693703   \n",
       "1  2.579774  2.643713 -2.329907    ...     0.022864 -0.460791  1.423288   \n",
       "2 -0.343698  7.502872 -0.309169    ...     2.408233 -0.460791  0.364792   \n",
       "3  2.278966  6.531677 -0.286216    ...     2.060769 -0.460791  0.364792   \n",
       "4  2.570968  2.797095 -1.095366    ...     0.721871 -0.460791  0.364792   \n",
       "\n",
       "         25        26        27        28        29       30        31  \n",
       "0 -0.396059  1.064204 -0.131306 -0.828079 -0.075378 -0.26968 -0.244704  \n",
       "1  2.524876  1.064204 -0.131306 -0.828079 -0.075378 -0.26968 -0.244704  \n",
       "2 -0.396059  1.064204 -0.131306 -0.828079 -0.075378 -0.26968 -0.244704  \n",
       "3  2.524876 -0.939669 -0.131306 -0.828079 -0.075378 -0.26968 -0.244704  \n",
       "4  2.524876 -0.939669 -0.131306 -0.828079 -0.075378 -0.26968 -0.244704  \n",
       "\n",
       "[5 rows x 32 columns]"
      ]
     },
     "execution_count": 366,
     "metadata": {},
     "output_type": "execute_result"
    }
   ],
   "source": [
    "#columns seven until thirtyeight\n",
    "scaler = StandardScaler()\n",
    "X_scaled = scaler.fit_transform(df.iloc[:, 6:38])\n",
    "df1=pd.DataFrame(X_scaled)\n",
    "df1.head(5)"
   ]
  },
  {
   "cell_type": "markdown",
   "metadata": {
    "collapsed": true
   },
   "source": [
    "### Trial 1: Straightforward Clustering"
   ]
  },
  {
   "cell_type": "code",
   "execution_count": 367,
   "metadata": {
    "collapsed": true
   },
   "outputs": [],
   "source": [
    "from sklearn.preprocessing import StandardScaler\n",
    "%matplotlib inline\n",
    "from collections import Counter\n",
    "import random\n",
    "from sklearn import cluster, metrics"
   ]
  },
  {
   "cell_type": "markdown",
   "metadata": {},
   "source": [
    "**First, we must determine how many clusters we need.**"
   ]
  },
  {
   "cell_type": "code",
   "execution_count": 368,
   "metadata": {
    "scrolled": true
   },
   "outputs": [
    {
     "data": {
      "image/png": "[encoded data removed]",
      "text/plain": [
       "<matplotlib.figure.Figure at 0x2609de6cbe0>"
      ]
     },
     "metadata": {},
     "output_type": "display_data"
    }
   ],
   "source": [
    "# calculate SC for K=2 through K=15\n",
    "k_range = range(2, 30)\n",
    "scores = []\n",
    "for k in k_range:\n",
    "    km = cluster.KMeans(n_clusters=k, random_state=12)\n",
    "    km.fit(X_scaled)\n",
    "    scores.append(metrics.silhouette_score(X_scaled, km.labels_))\n",
    "\n",
    "# plot the results\n",
    "plt.plot(k_range, scores)\n",
    "plt.xlabel('Number of clusters')\n",
    "plt.ylabel('Silhouette Coefficient')\n",
    "plt.title('Optimal # of clusters - KMeans')\n",
    "plt.grid(True)"
   ]
  },
  {
   "cell_type": "code",
   "execution_count": 369,
   "metadata": {},
   "outputs": [
    {
     "data": {
      "image/png": "[encoded data removed]",
      "text/plain": [
       "<matplotlib.figure.Figure at 0x260a326e4a8>"
      ]
     },
     "metadata": {},
     "output_type": "display_data"
    }
   ],
   "source": [
    "from sklearn.cluster import KMeans\n",
    "import pylab as pl\n",
    "Nc = range(1, 30)\n",
    "kmeans = [KMeans(n_clusters=i) for i in Nc]\n",
    "kmeans\n",
    "score = [kmeans[i].fit(X_scaled).score(X_scaled) for i in range(len(kmeans))]\n",
    "score\n",
    "pl.plot(Nc,score)\n",
    "pl.xlabel('Number of Clusters')\n",
    "pl.ylabel('Distortion generated from the cost function')\n",
    "pl.title('Elbow Method - KMeans')\n",
    "pl.show()"
   ]
  },
  {
   "cell_type": "markdown",
   "metadata": {},
   "source": [
    "Maxes out at around 24 clusters? But am not convinced. Let's try other methods."
   ]
  },
  {
   "cell_type": "code",
   "execution_count": 370,
   "metadata": {},
   "outputs": [
    {
     "data": {
      "image/png": "[encoded data removed]",
      "text/plain": [
       "<matplotlib.figure.Figure at 0x260a43ca630>"
      ]
     },
     "metadata": {},
     "output_type": "display_data"
    }
   ],
   "source": [
    "# calculate SC for K=2 through K=30\n",
    "from sklearn.cluster import AgglomerativeClustering\n",
    "k_range = range(2, 30)\n",
    "scores = []\n",
    "for k in k_range:\n",
    "    hc = AgglomerativeClustering(n_clusters=k)\n",
    "    hc.fit(X_scaled)\n",
    "    scores.append(metrics.silhouette_score(X_scaled, hc.labels_))\n",
    "\n",
    "# plot the results\n",
    "plt.plot(k_range, scores)\n",
    "plt.xlabel('Number of clusters')\n",
    "plt.ylabel('Silhouette Coefficient')\n",
    "plt.title('Program Countries - Hierarchical')\n",
    "plt.grid(True)"
   ]
  },
  {
   "cell_type": "markdown",
   "metadata": {
    "collapsed": true
   },
   "source": [
    "Result is worse than K-Means. Multimodal # of clusters.  Note that 24-cluster result is consistent with K-Means."
   ]
  },
  {
   "cell_type": "code",
   "execution_count": 371,
   "metadata": {},
   "outputs": [
    {
     "name": "stdout",
     "output_type": "stream",
     "text": [
      "number of estimated clusters : 6\n",
      "Counter({0: 164, 2: 5, 1: 3, 3: 3, 4: 1, 5: 1})\n"
     ]
    }
   ],
   "source": [
    "import numpy as np\n",
    "from sklearn.cluster import MeanShift, estimate_bandwidth\n",
    "\n",
    "# The following bandwidth can be automatically detected using\n",
    "bandwidth = estimate_bandwidth(X_scaled, quantile=0.2, n_samples=500)\n",
    "\n",
    "ms = MeanShift(bandwidth=bandwidth, bin_seeding=True)\n",
    "ms.fit(X_scaled)\n",
    "labels = ms.labels_\n",
    "cluster_centers = ms.cluster_centers_\n",
    "\n",
    "df['cluster'] = ms.labels_\n",
    "df.sort_values(by='cluster')\n",
    "writer = pd.ExcelWriter('Test.xlsx', engine='xlsxwriter')\n",
    "df.to_excel(writer, sheet_name='MS')\n",
    "writer.save()\n",
    "\n",
    "labels_unique = np.unique(labels)\n",
    "n_clusters_ = len(labels_unique)\n",
    "\n",
    "print(\"number of estimated clusters : %d\" % n_clusters_)\n",
    "labels = ms.labels_\n",
    "print(Counter(labels))"
   ]
  },
  {
   "cell_type": "markdown",
   "metadata": {},
   "source": [
    "Meanshift clustering seems unreliable.  Six clusters and first blob has 164 countries."
   ]
  },
  {
   "cell_type": "markdown",
   "metadata": {},
   "source": [
    "#### Testing K-Means on 24 clusters."
   ]
  },
  {
   "cell_type": "code",
   "execution_count": 372,
   "metadata": {},
   "outputs": [
    {
     "name": "stdout",
     "output_type": "stream",
     "text": [
      "Counter({3: 30, 2: 29, 12: 18, 11: 16, 1: 13, 10: 11, 7: 9, 4: 8, 8: 7, 9: 6, 6: 5, 13: 4, 15: 4, 0: 3, 5: 3, 18: 2, 19: 2, 14: 1, 16: 1, 17: 1, 20: 1, 21: 1, 22: 1, 23: 1})\n"
     ]
    }
   ],
   "source": [
    "# K-means with 8 clusters on scaled data\n",
    "km = cluster.KMeans(n_clusters=24, random_state=14)\n",
    "km.fit(X_scaled)\n",
    "df['cluster'] = km.labels_\n",
    "df.sort_values(by='cluster')\n",
    "\n",
    "writer = pd.ExcelWriter('Test.xlsx', engine='xlsxwriter')\n",
    "df.to_excel(writer, sheet_name='KM')\n",
    "writer.save()\n",
    "\n",
    "labels = km.labels_\n",
    "print(Counter(labels))"
   ]
  },
  {
   "cell_type": "code",
   "execution_count": 373,
   "metadata": {},
   "outputs": [
    {
     "name": "stdout",
     "output_type": "stream",
     "text": [
      "Counter({0: 41, 7: 16, 1: 15, 3: 13, 8: 12, 9: 12, 4: 9, 10: 9, 21: 8, 2: 6, 5: 5, 12: 5, 6: 4, 11: 4, 19: 4, 15: 3, 23: 3, 14: 2, 13: 1, 16: 1, 17: 1, 18: 1, 20: 1, 22: 1})\n"
     ]
    }
   ],
   "source": [
    "# Supplementary: run Hierarchical clustering\n",
    "# Fit an estimator\n",
    "hc = AgglomerativeClustering(n_clusters=24)\n",
    "hc.fit(X_scaled)\n",
    "\n",
    "# Clusters are given in the labels_ attribute\n",
    "df['cluster'] = hc.labels_\n",
    "df.sort_values(by='cluster')\n",
    "writer = pd.ExcelWriter('Test.xlsx', engine='xlsxwriter')\n",
    "df.to_excel(writer, sheet_name='HC')\n",
    "writer.save()\n",
    "\n",
    "labels = hc.labels_\n",
    "print(Counter(labels))"
   ]
  },
  {
   "cell_type": "markdown",
   "metadata": {},
   "source": [
    "## Trial 2. PCA (dimensionality reduction), then Clustering"
   ]
  },
  {
   "cell_type": "code",
   "execution_count": 374,
   "metadata": {},
   "outputs": [
    {
     "data": {
      "text/html": [
       "<div>\n",
       "<style>\n",
       "    .dataframe thead tr:only-child th {\n",
       "        text-align: right;\n",
       "    }\n",
       "\n",
       "    .dataframe thead th {\n",
       "        text-align: left;\n",
       "    }\n",
       "\n",
       "    .dataframe tbody tr th {\n",
       "        vertical-align: top;\n",
       "    }\n",
       "</style>\n",
       "<table border=\"1\" class=\"dataframe\">\n",
       "  <thead>\n",
       "    <tr style=\"text-align: right;\">\n",
       "      <th></th>\n",
       "      <th>country_name</th>\n",
       "      <th>country_code</th>\n",
       "      <th>country_iso_3_code</th>\n",
       "      <th>code</th>\n",
       "      <th>region</th>\n",
       "      <th>arrangement_type</th>\n",
       "      <th>year</th>\n",
       "    </tr>\n",
       "  </thead>\n",
       "  <tbody>\n",
       "    <tr>\n",
       "      <th>0</th>\n",
       "      <td>Greece</td>\n",
       "      <td>174</td>\n",
       "      <td>GRC</td>\n",
       "      <td>1742010</td>\n",
       "      <td>EUR</td>\n",
       "      <td>SBA</td>\n",
       "      <td>2010</td>\n",
       "    </tr>\n",
       "    <tr>\n",
       "      <th>1</th>\n",
       "      <td>Greece</td>\n",
       "      <td>174</td>\n",
       "      <td>GRC</td>\n",
       "      <td>1742012</td>\n",
       "      <td>EUR</td>\n",
       "      <td>EFF</td>\n",
       "      <td>2012</td>\n",
       "    </tr>\n",
       "    <tr>\n",
       "      <th>2</th>\n",
       "      <td>Iceland</td>\n",
       "      <td>176</td>\n",
       "      <td>ISL</td>\n",
       "      <td>1762008</td>\n",
       "      <td>EUR</td>\n",
       "      <td>SBA</td>\n",
       "      <td>2008</td>\n",
       "    </tr>\n",
       "    <tr>\n",
       "      <th>3</th>\n",
       "      <td>Ireland</td>\n",
       "      <td>178</td>\n",
       "      <td>IRL</td>\n",
       "      <td>1782010</td>\n",
       "      <td>EUR</td>\n",
       "      <td>EFF</td>\n",
       "      <td>2010</td>\n",
       "    </tr>\n",
       "    <tr>\n",
       "      <th>4</th>\n",
       "      <td>Portugal</td>\n",
       "      <td>182</td>\n",
       "      <td>PRT</td>\n",
       "      <td>1822011</td>\n",
       "      <td>EUR</td>\n",
       "      <td>EFF</td>\n",
       "      <td>2011</td>\n",
       "    </tr>\n",
       "  </tbody>\n",
       "</table>\n",
       "</div>"
      ],
      "text/plain": [
       "  country_name  country_code country_iso_3_code     code region  \\\n",
       "0       Greece           174                GRC  1742010    EUR   \n",
       "1       Greece           174                GRC  1742012    EUR   \n",
       "2      Iceland           176                ISL  1762008    EUR   \n",
       "3      Ireland           178                IRL  1782010    EUR   \n",
       "4     Portugal           182                PRT  1822011    EUR   \n",
       "\n",
       "  arrangement_type  year  \n",
       "0              SBA  2010  \n",
       "1              EFF  2012  \n",
       "2              SBA  2008  \n",
       "3              EFF  2010  \n",
       "4              EFF  2011  "
      ]
     },
     "execution_count": 374,
     "metadata": {},
     "output_type": "execute_result"
    }
   ],
   "source": [
    "#Grabbing metadata for future use\n",
    "metadata=df.iloc[:, 0:7]\n",
    "metadata.head(5)"
   ]
  },
  {
   "cell_type": "code",
   "execution_count": 375,
   "metadata": {},
   "outputs": [],
   "source": [
    "#define X as the features; y as the program\n",
    "\n",
    "X = df.iloc[:,6:38].values\n",
    "y = df.iloc[:,5].values #beginning in value 6\n",
    "\n",
    "from sklearn.preprocessing import StandardScaler\n",
    "X_std = StandardScaler().fit_transform(X)"
   ]
  },
  {
   "cell_type": "code",
   "execution_count": 376,
   "metadata": {},
   "outputs": [
    {
     "name": "stdout",
     "output_type": "stream",
     "text": [
      "Eigenvectors \n",
      "[[-0.2410973  -0.31903935  0.19321765 ..., -0.05899206  0.1531666\n",
      "   0.0265627 ]\n",
      " [ 0.13099551  0.13894946  0.29962328 ..., -0.00703226 -0.23920483\n",
      "  -0.39874972]\n",
      " [ 0.09139911  0.11518549  0.4123479  ...,  0.35762467  0.13424609\n",
      "   0.42805856]\n",
      " ..., \n",
      " [ 0.01140907 -0.02478931 -0.05748059 ..., -0.03288717  0.18041949\n",
      "   0.02747792]\n",
      " [-0.08071353 -0.00324742  0.03206785 ..., -0.00192413  0.01849487\n",
      "   0.01649185]\n",
      " [-0.06463452 -0.04255255  0.13815929 ...,  0.05937132  0.03727646\n",
      "  -0.04991426]]\n",
      "\n",
      "Eigenvalues \n",
      "[  5.46680433e+00   3.58587790e+00   2.83299474e+00   2.39004297e+00\n",
      "   1.98489528e+00   1.64097674e+00   1.41988720e+00   1.30247279e+00\n",
      "   1.23630977e+00   1.09178830e+00   1.05309312e+00   9.00556037e-01\n",
      "   7.84771345e-01   7.19023856e-01   6.92069997e-16   6.52335939e-01\n",
      "   6.12701865e-01   5.66590354e-01   5.42413442e-01   3.36911464e-02\n",
      "   4.60324076e-01   4.33943485e-01   9.44448015e-02   1.21185612e-01\n",
      "   1.46595555e-01   3.79732654e-01   1.89211211e-01   3.31359427e-01\n",
      "   2.96645805e-01   2.77145508e-01   2.20332255e-01   2.31852486e-01]\n"
     ]
    }
   ],
   "source": [
    "#Define correlation matrix and perform eigendecomposition\n",
    "cor_mat1 = np.corrcoef(X_std.T) #correlations of standardized data\n",
    "cor_mat2 = np.corrcoef(X.T) #correlations of raw data\n",
    "\n",
    "eig_vals, eig_vecs = np.linalg.eig(cor_mat2)\n",
    "\n",
    "print('Eigenvectors \\n%s' %eig_vecs)\n",
    "print('\\nEigenvalues \\n%s' %eig_vals)"
   ]
  },
  {
   "cell_type": "code",
   "execution_count": 377,
   "metadata": {},
   "outputs": [
    {
     "name": "stdout",
     "output_type": "stream",
     "text": [
      "Eigenvalues in descending order:\n",
      "5.46680433386\n",
      "3.58587790102\n",
      "2.83299473825\n",
      "2.39004296843\n",
      "1.98489528387\n",
      "1.64097673701\n",
      "1.41988719714\n",
      "1.30247278599\n",
      "1.23630977189\n",
      "1.09178830356\n",
      "1.05309311798\n",
      "0.900556037204\n",
      "0.784771344878\n",
      "0.719023856293\n",
      "0.652335939207\n",
      "0.612701865486\n",
      "0.566590353806\n",
      "0.542413442189\n",
      "0.460324076493\n",
      "0.433943484705\n",
      "0.379732654194\n",
      "0.331359427455\n",
      "0.296645805015\n",
      "0.277145507626\n",
      "0.231852486281\n",
      "0.220332255277\n",
      "0.189211210861\n",
      "0.146595554522\n",
      "0.121185611624\n",
      "0.0944448014836\n",
      "0.0336911464176\n",
      "6.92069996658e-16\n"
     ]
    }
   ],
   "source": [
    "# Make a list of (eigenvalue, eigenvector) tuples\n",
    "eig_pairs = [(np.abs(eig_vals[i]), eig_vecs[:,i]) for i in range(len(eig_vals))]\n",
    "\n",
    "# Sort the (eigenvalue, eigenvector) tuples from high to low\n",
    "eig_pairs.sort()\n",
    "eig_pairs.reverse()\n",
    "\n",
    "# Visually confirm that the list is correctly sorted by decreasing eigenvalues\n",
    "print('Eigenvalues in descending order:')\n",
    "for i in eig_pairs:\n",
    "    print(i[0])"
   ]
  },
  {
   "cell_type": "code",
   "execution_count": 378,
   "metadata": {},
   "outputs": [
    {
     "name": "stdout",
     "output_type": "stream",
     "text": [
      "    cumulative variance pca #1  pca#2  variance explained\n",
      "0             17.083764   PC 1   PC 1           17.083764\n",
      "1             28.289632   PC 2   PC 2           11.205868\n",
      "2             37.142741   PC 3   PC 3            8.853109\n",
      "3             44.611625   PC 4   PC 4            7.468884\n",
      "4             50.814423   PC 5   PC 5            6.202798\n",
      "5             55.942475   PC 6   PC 6            5.128052\n",
      "6             60.379622   PC 7   PC 7            4.437147\n",
      "7             64.449850   PC 8   PC 8            4.070227\n",
      "8             68.313318   PC 9   PC 9            3.863468\n",
      "9             71.725156  PC 10  PC 10            3.411838\n",
      "10            75.016072  PC 11  PC 11            3.290916\n",
      "11            77.830310  PC 12  PC 12            2.814238\n",
      "12            80.282720  PC 13  PC 13            2.452410\n",
      "13            82.529670  PC 14  PC 14            2.246950\n",
      "14            84.568220  PC 15  PC 15            2.038550\n",
      "15            86.482913  PC 16  PC 16            1.914693\n",
      "16            88.253508  PC 17  PC 17            1.770595\n",
      "17            89.948550  PC 18  PC 18            1.695042\n",
      "18            91.387063  PC 19  PC 19            1.438513\n",
      "19            92.743136  PC 20  PC 20            1.356073\n"
     ]
    }
   ],
   "source": [
    "tot = sum(eig_vals)\n",
    "var_exp = [(i / tot)*100 for i in sorted(eig_vals, reverse=True)]\n",
    "cum_var_exp = np.cumsum(var_exp)\n",
    "\n",
    "x_bar= ['PC %s'%i for i in range(1,21)]\n",
    "y_bar= var_exp[:20]\n",
    "\n",
    "x_line= ['PC %s' %i for i in range(1,21)] \n",
    "y_line= cum_var_exp[:20]\n",
    "\n",
    "chart = pd.DataFrame(\n",
    "    {'pca #1': x_bar,\n",
    "     'variance explained': y_bar,\n",
    "     'pca#2':x_line,\n",
    "     'cumulative variance':y_line,\n",
    "    })\n",
    "\n",
    "print(chart)"
   ]
  },
  {
   "cell_type": "markdown",
   "metadata": {},
   "source": [
    "**Am happy with 12 PCAs amounting to 80% variance**"
   ]
  },
  {
   "cell_type": "code",
   "execution_count": 387,
   "metadata": {},
   "outputs": [
    {
     "data": {
      "text/plain": [
       "<matplotlib.legend.Legend at 0x260a4b5def0>"
      ]
     },
     "execution_count": 387,
     "metadata": {},
     "output_type": "execute_result"
    },
    {
     "data": {
      "image/png": "[encoded data removed]",
      "text/plain": [
       "<matplotlib.figure.Figure at 0x260a4bd4780>"
      ]
     },
     "metadata": {},
     "output_type": "display_data"
    }
   ],
   "source": [
    "chart['variance explained'].plot(kind='bar')\n",
    "chart['cumulative variance'].plot(kind='line', color='green')\n",
    "plt.legend()"
   ]
  },
  {
   "cell_type": "code",
   "execution_count": 380,
   "metadata": {},
   "outputs": [],
   "source": [
    "from sklearn.decomposition import PCA\n",
    "from scipy import stats\n",
    "\n",
    "pca = PCA(n_components=12)\n",
    "Y_sklearn = pca.fit_transform(X_std)"
   ]
  },
  {
   "cell_type": "markdown",
   "metadata": {},
   "source": [
    "Now it's time to cluster the 12 PCA components. But first, let's convert to a df and combine with the metadata."
   ]
  },
  {
   "cell_type": "code",
   "execution_count": 381,
   "metadata": {},
   "outputs": [],
   "source": [
    "pca_df = pd.DataFrame(Y_sklearn)\n",
    "#outer join with metadata\n",
    "#pca_df = pd.concat([metadata, pca_df], axis=1)"
   ]
  },
  {
   "cell_type": "code",
   "execution_count": 382,
   "metadata": {},
   "outputs": [
    {
     "data": {
      "image/png": "[encoded data removed]",
      "text/plain": [
       "<matplotlib.figure.Figure at 0x260a49ef828>"
      ]
     },
     "metadata": {},
     "output_type": "display_data"
    }
   ],
   "source": [
    "# calculate SC for K=2 through K=70\n",
    "k_range = range(2, 70)\n",
    "scores = []\n",
    "for k in k_range:\n",
    "    km = cluster.KMeans(n_clusters=k, random_state=12)\n",
    "    km.fit(pca_df)\n",
    "    scores.append(metrics.silhouette_score(pca_df, km.labels_))\n",
    "\n",
    "# plot the results\n",
    "plt.plot(k_range, scores)\n",
    "plt.xlabel('Number of clusters')\n",
    "plt.ylabel('Silhouette Coefficient')\n",
    "plt.title('Optimal # clusters - KMeans')\n",
    "plt.grid(True)"
   ]
  },
  {
   "cell_type": "markdown",
   "metadata": {},
   "source": [
    "Still stubborn at 24 clusters."
   ]
  },
  {
   "cell_type": "code",
   "execution_count": 383,
   "metadata": {},
   "outputs": [
    {
     "data": {
      "image/png": "[encoded data removed]",
      "text/plain": [
       "<matplotlib.figure.Figure at 0x260a4a35b70>"
      ]
     },
     "metadata": {},
     "output_type": "display_data"
    }
   ],
   "source": [
    "# calculate SC for K=2 through K=70\n",
    "from sklearn.cluster import AgglomerativeClustering\n",
    "k_range = range(2, 70)\n",
    "scores = []\n",
    "for k in k_range:\n",
    "    hc = AgglomerativeClustering(n_clusters=k)\n",
    "    hc.fit(pca_df)\n",
    "    scores.append(metrics.silhouette_score(pca_df, hc.labels_))\n",
    "\n",
    "# plot the results\n",
    "plt.plot(k_range, scores)\n",
    "plt.xlabel('Number of clusters')\n",
    "plt.ylabel('Silhouette Coefficient')\n",
    "plt.title('Optimal # clusters - Hierarchical')\n",
    "plt.grid(True)"
   ]
  },
  {
   "cell_type": "markdown",
   "metadata": {},
   "source": [
    "Hierarchical clusters max out at 40. Isn't that a tad too many?"
   ]
  },
  {
   "cell_type": "code",
   "execution_count": 384,
   "metadata": {},
   "outputs": [
    {
     "name": "stdout",
     "output_type": "stream",
     "text": [
      "Counter({0: 32, 19: 18, 1: 16, 3: 16, 15: 16, 8: 13, 9: 11, 14: 11, 5: 7, 13: 7, 16: 7, 4: 4, 17: 4, 2: 3, 6: 3, 10: 3, 11: 3, 7: 1, 12: 1, 18: 1})\n"
     ]
    }
   ],
   "source": [
    "# K-means has the slightly higher silhouette score.  Proceed with 20 clusters on PCA data\n",
    "km = cluster.KMeans(n_clusters=20, random_state=14)\n",
    "km.fit(pca_df)\n",
    "df['cluster'] = km.labels_\n",
    "df.sort_values(by='cluster')\n",
    "\n",
    "writer = pd.ExcelWriter('Test.xlsx', engine='xlsxwriter')\n",
    "df.to_excel(writer, sheet_name='PCA_KM')\n",
    "writer.save()\n",
    "\n",
    "labels = km.labels_\n",
    "print(Counter(labels))"
   ]
  },
  {
   "cell_type": "code",
   "execution_count": 385,
   "metadata": {},
   "outputs": [
    {
     "name": "stdout",
     "output_type": "stream",
     "text": [
      "Counter({0: 24, 15: 16, 4: 12, 1: 11, 6: 11, 5: 9, 20: 9, 10: 8, 9: 6, 3: 4, 7: 4, 11: 4, 13: 4, 22: 4, 31: 4, 12: 3, 14: 3, 16: 3, 17: 3, 23: 3, 28: 3, 2: 2, 8: 2, 18: 2, 19: 2, 21: 2, 24: 2, 30: 2, 32: 2, 33: 2, 34: 2, 25: 1, 26: 1, 27: 1, 29: 1, 35: 1, 36: 1, 37: 1, 38: 1, 39: 1})\n"
     ]
    }
   ],
   "source": [
    "# Fit an estimator\n",
    "hc = AgglomerativeClustering(n_clusters=40)\n",
    "hc.fit(pca_df)\n",
    "\n",
    "# Clusters are given in the labels_ attribute\n",
    "df['cluster'] = hc.labels_\n",
    "df.sort_values(by='cluster')\n",
    "writer = pd.ExcelWriter('Test.xlsx', engine='xlsxwriter')\n",
    "df.to_excel(writer, sheet_name='PCA_HC')\n",
    "writer.save()\n",
    "\n",
    "labels = hc.labels_\n",
    "print(Counter(labels))"
   ]
  },
  {
   "cell_type": "markdown",
   "metadata": {},
   "source": [
    "References: https://plot.ly/ipython-notebooks/principal-component-analysis/"
   ]
  }
 ],
 "metadata": {
  "kernelspec": {
   "display_name": "Python 3",
   "language": "python",
   "name": "python3"
  },
  "language_info": {
   "codemirror_mode": {
    "name": "ipython",
    "version": 3
   },
   "file_extension": ".py",
   "mimetype": "text/x-python",
   "name": "python",
   "nbconvert_exporter": "python",
   "pygments_lexer": "ipython3",
   "version": "3.5.3"
  }
 },
 "nbformat": 4,
 "nbformat_minor": 2
}
